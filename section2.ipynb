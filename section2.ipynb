{
 "cells": [
  {
   "cell_type": "markdown",
   "metadata": {},
   "source": [
    "# Section 2"
   ]
  },
  {
   "cell_type": "markdown",
   "metadata": {},
   "source": [
    "## Scenario 1 \n",
    "---\n",
    "Download the passing rate of annual vehicle inspection records from \n",
    "Some forum posters have complained that the value of their HDB flats suffer because they are near \n",
    "expressways, which are very noisy. Others say expressway proximity is good, due to the unblocked \n",
    "view (at least for higher floors). <br/>\n",
    " <br/>\n",
    "The Housing and Development Board has tasked your team to analyse whether there is merit to \n",
    "either view, based on transaction prices for resale HDB flats in recent years."
   ]
  },
  {
   "cell_type": "code",
   "execution_count": 1,
   "metadata": {},
   "outputs": [],
   "source": [
    "#Libraries\n",
    "import pandas as pd\n",
    "import numpy as np\n",
    "import matplotlib.pyplot as plt\n",
    "import seaborn as sns\n",
    "#!pip install geopandas\n",
    "import geopandas as gpd\n",
    "from sklearn.model_selection import train_test_split\n",
    "from sklearn.ensemble import RandomForestClassifier\n",
    "from sklearn.linear_model import LogisticRegression\n",
    "from sklearn.metrics import confusion_matrix, ConfusionMatrixDisplay"
   ]
  },
  {
   "cell_type": "code",
   "execution_count": 2,
   "metadata": {},
   "outputs": [],
   "source": [
    "#Importing housing datasets\n",
    "df1 = pd.read_csv(\"resale-flat-prices-based-on-approval-date-1990-1999.csv\")\n",
    "df2 = pd.read_csv(\"resale-flat-prices-based-on-approval-date-2000-feb-2012.csv\")\n",
    "df3 = pd.read_csv(\"resale-flat-prices-based-on-registration-date-from-jan-2015-to-dec-2016.csv\")\n",
    "df4 = pd.read_csv(\"resale-flat-prices-based-on-registration-date-from-jan-2017-onwards.csv\")\n",
    "df5 = pd.read_csv(\"resale-flat-prices-based-on-registration-date-from-mar-2012-to-dec-2014.csv\")\n",
    "resale_df = pd.concat([df1,df2,df3,df4,df5])"
   ]
  },
  {
   "cell_type": "code",
   "execution_count": 7,
   "metadata": {},
   "outputs": [
    {
     "data": {
      "text/html": [
       "<div>\n",
       "<style scoped>\n",
       "    .dataframe tbody tr th:only-of-type {\n",
       "        vertical-align: middle;\n",
       "    }\n",
       "\n",
       "    .dataframe tbody tr th {\n",
       "        vertical-align: top;\n",
       "    }\n",
       "\n",
       "    .dataframe thead th {\n",
       "        text-align: right;\n",
       "    }\n",
       "</style>\n",
       "<table border=\"1\" class=\"dataframe\">\n",
       "  <thead>\n",
       "    <tr style=\"text-align: right;\">\n",
       "      <th>Attributes</th>\n",
       "      <th>NAME</th>\n",
       "      <th>FOLDERPATH</th>\n",
       "      <th>SYMBOLID</th>\n",
       "      <th>INC_CRC</th>\n",
       "      <th>FMEL_UPD_D</th>\n",
       "    </tr>\n",
       "  </thead>\n",
       "  <tbody>\n",
       "    <tr>\n",
       "      <th>0</th>\n",
       "      <td>CENTRAL EXPRESSWAY</td>\n",
       "      <td>Layers/Expressway_Sliproad</td>\n",
       "      <td>2</td>\n",
       "      <td>0C08DFFA475DDCCD</td>\n",
       "      <td>20191008154530</td>\n",
       "    </tr>\n",
       "    <tr>\n",
       "      <th>1</th>\n",
       "      <td>CENTRAL EXPRESSWAY</td>\n",
       "      <td>Layers/Expressway_Sliproad</td>\n",
       "      <td>2</td>\n",
       "      <td>48A90A617CC124B8</td>\n",
       "      <td>20191008154530</td>\n",
       "    </tr>\n",
       "    <tr>\n",
       "      <th>2</th>\n",
       "      <td>CENTRAL EXPRESSWAY</td>\n",
       "      <td>Layers/Expressway_Sliproad</td>\n",
       "      <td>2</td>\n",
       "      <td>051AA478B6209021</td>\n",
       "      <td>20191008154530</td>\n",
       "    </tr>\n",
       "    <tr>\n",
       "      <th>3</th>\n",
       "      <td>CENTRAL EXPRESSWAY</td>\n",
       "      <td>Layers/Expressway_Sliproad</td>\n",
       "      <td>2</td>\n",
       "      <td>1C51FD53E1662A6B</td>\n",
       "      <td>20191008154530</td>\n",
       "    </tr>\n",
       "    <tr>\n",
       "      <th>4</th>\n",
       "      <td>CENTRAL EXPRESSWAY</td>\n",
       "      <td>Layers/Expressway_Sliproad</td>\n",
       "      <td>2</td>\n",
       "      <td>44D0FFDF1EF47027</td>\n",
       "      <td>20191008154530</td>\n",
       "    </tr>\n",
       "    <tr>\n",
       "      <th>...</th>\n",
       "      <td>...</td>\n",
       "      <td>...</td>\n",
       "      <td>...</td>\n",
       "      <td>...</td>\n",
       "      <td>...</td>\n",
       "    </tr>\n",
       "    <tr>\n",
       "      <th>5130</th>\n",
       "      <td>40</td>\n",
       "      <td>Layers/Contour_250K</td>\n",
       "      <td>4</td>\n",
       "      <td>8335AEC2469FDB5A</td>\n",
       "      <td>20191008154531</td>\n",
       "    </tr>\n",
       "    <tr>\n",
       "      <th>5131</th>\n",
       "      <td>20</td>\n",
       "      <td>Layers/Contour_250K</td>\n",
       "      <td>4</td>\n",
       "      <td>7341E9E668DAA485</td>\n",
       "      <td>20191008154531</td>\n",
       "    </tr>\n",
       "    <tr>\n",
       "      <th>5132</th>\n",
       "      <td>20</td>\n",
       "      <td>Layers/Contour_250K</td>\n",
       "      <td>4</td>\n",
       "      <td>80474D20EDA042D7</td>\n",
       "      <td>20191008154531</td>\n",
       "    </tr>\n",
       "    <tr>\n",
       "      <th>5133</th>\n",
       "      <td>20</td>\n",
       "      <td>Layers/Contour_250K</td>\n",
       "      <td>4</td>\n",
       "      <td>CEF6E059889EB780</td>\n",
       "      <td>20191008154531</td>\n",
       "    </tr>\n",
       "    <tr>\n",
       "      <th>5134</th>\n",
       "      <td>20</td>\n",
       "      <td>Layers/Contour_250K</td>\n",
       "      <td>4</td>\n",
       "      <td>19D8DD53E6117E32</td>\n",
       "      <td>20191008154531</td>\n",
       "    </tr>\n",
       "  </tbody>\n",
       "</table>\n",
       "<p>5135 rows × 5 columns</p>\n",
       "</div>"
      ],
      "text/plain": [
       "Attributes                NAME                  FOLDERPATH SYMBOLID  \\\n",
       "0           CENTRAL EXPRESSWAY  Layers/Expressway_Sliproad        2   \n",
       "1           CENTRAL EXPRESSWAY  Layers/Expressway_Sliproad        2   \n",
       "2           CENTRAL EXPRESSWAY  Layers/Expressway_Sliproad        2   \n",
       "3           CENTRAL EXPRESSWAY  Layers/Expressway_Sliproad        2   \n",
       "4           CENTRAL EXPRESSWAY  Layers/Expressway_Sliproad        2   \n",
       "...                        ...                         ...      ...   \n",
       "5130                        40         Layers/Contour_250K        4   \n",
       "5131                        20         Layers/Contour_250K        4   \n",
       "5132                        20         Layers/Contour_250K        4   \n",
       "5133                        20         Layers/Contour_250K        4   \n",
       "5134                        20         Layers/Contour_250K        4   \n",
       "\n",
       "Attributes           INC_CRC      FMEL_UPD_D  \n",
       "0           0C08DFFA475DDCCD  20191008154530  \n",
       "1           48A90A617CC124B8  20191008154530  \n",
       "2           051AA478B6209021  20191008154530  \n",
       "3           1C51FD53E1662A6B  20191008154530  \n",
       "4           44D0FFDF1EF47027  20191008154530  \n",
       "...                      ...             ...  \n",
       "5130        8335AEC2469FDB5A  20191008154531  \n",
       "5131        7341E9E668DAA485  20191008154531  \n",
       "5132        80474D20EDA042D7  20191008154531  \n",
       "5133        CEF6E059889EB780  20191008154531  \n",
       "5134        19D8DD53E6117E32  20191008154531  \n",
       "\n",
       "[5135 rows x 5 columns]"
      ]
     },
     "execution_count": 7,
     "metadata": {},
     "output_type": "execute_result"
    }
   ],
   "source": [
    "#Importing map line dataset\n",
    "data = gpd.read_file('national-map-line-geojson.geojson')\n",
    "df_list = []\n",
    "def get_df(df_list, value):\n",
    "    temp = pd.read_html(str(value))\n",
    "    temp_df = pd.DataFrame(temp[0]).set_index('Attributes').T.reset_index(drop=True)\n",
    "    df_list.append(temp_df)\n",
    "\n",
    "#Get data from Description column and then concat all data into df\n",
    "data.Description.apply(lambda x: get_df(df_list,x))\n",
    "map_df = pd.concat(df_list, axis=0).reset_index(drop=True)"
   ]
  },
  {
   "cell_type": "code",
   "execution_count": 8,
   "metadata": {},
   "outputs": [
    {
     "name": "stdout",
     "output_type": "stream",
     "text": [
      "object month ['1990-01' '1990-02' '1990-03' '1990-04' '1990-05' '1990-06' '1990-07'\n",
      " '1990-08' '1990-09' '1990-10']\n",
      "object town ['ANG MO KIO' 'BEDOK' 'BISHAN' 'BUKIT BATOK' 'BUKIT MERAH' 'BUKIT TIMAH'\n",
      " 'CENTRAL AREA' 'CHOA CHU KANG' 'CLEMENTI' 'GEYLANG']\n",
      "object flat_type ['1 ROOM' '3 ROOM' '4 ROOM' '5 ROOM' '2 ROOM' 'EXECUTIVE'\n",
      " 'MULTI GENERATION' 'MULTI-GENERATION']\n",
      "object block ['309' '216' '211' '202' '235' '232' '308' '220' '219' '247']\n",
      "object street_name ['ANG MO KIO AVE 1' 'ANG MO KIO AVE 3' 'ANG MO KIO AVE 4'\n",
      " 'ANG MO KIO AVE 10' 'ANG MO KIO AVE 5' 'ANG MO KIO AVE 8'\n",
      " 'ANG MO KIO AVE 6' 'ANG MO KIO AVE 9' 'ANG MO KIO AVE 2'\n",
      " 'BEDOK RESERVOIR RD']\n",
      "object storey_range ['10 TO 12' '04 TO 06' '07 TO 09' '01 TO 03' '13 TO 15' '19 TO 21'\n",
      " '16 TO 18' '25 TO 27' '22 TO 24' '28 TO 30']\n",
      "float64 floor_area_sqm [31. 73. 67. 82. 74. 88. 89. 83. 68. 75.]\n",
      "object flat_model ['IMPROVED' 'NEW GENERATION' 'MODEL A' 'STANDARD' 'SIMPLIFIED'\n",
      " 'MODEL A-MAISONETTE' 'APARTMENT' 'MAISONETTE' 'TERRACE' '2-ROOM']\n",
      "int64 lease_commence_date [1977 1976 1978 1979 1984 1980 1985 1981 1982 1986]\n",
      "float64 resale_price [ 9000.  6000.  8000. 47200. 46000. 42000. 38000. 40000. 47000. 43000.]\n",
      "object remaining_lease [nan 70 65 64 63 62 69 60 61 86]\n"
     ]
    }
   ],
   "source": [
    "#Preliminary check of each column's data type and values\n",
    "for col in resale_df.columns:\n",
    "    print(resale_df[col].dtype, col, resale_df[col].unique()[:10])"
   ]
  },
  {
   "cell_type": "code",
   "execution_count": 9,
   "metadata": {},
   "outputs": [
    {
     "name": "stdout",
     "output_type": "stream",
     "text": [
      "object NAME ['CENTRAL EXPRESSWAY' 'CHANGI COAST ROAD' 'CHANGI NORTH CRESCENT'\n",
      " 'CHANGI SOUTH AVENUE 3' 'CHIN SWEE ROAD' 'CHOA CHU KANG DRIVE'\n",
      " 'LORNIE HIGHWAY' 'TAMPINES AVENUE 10' 'XILIN AVENUE' 'CHOA CHU KANG WAY']\n",
      "object FOLDERPATH ['Layers/Expressway_Sliproad' 'Layers/Expressway'\n",
      " 'Layers/International_bdy' 'Layers/Major_Road' 'Layers/Contour_250K']\n",
      "object SYMBOLID ['2' '1' '0' '3' '4']\n",
      "object INC_CRC ['0C08DFFA475DDCCD' '48A90A617CC124B8' '051AA478B6209021'\n",
      " '1C51FD53E1662A6B' '44D0FFDF1EF47027' 'FB1312F3B35BE59C'\n",
      " 'FC79D834475C81E6' '124BF3A9A7B00559' '4D32A9DCA4D3A3FD'\n",
      " '17AFD7EBA474B2CE']\n",
      "object FMEL_UPD_D ['20191008154530' '20191008154531']\n"
     ]
    }
   ],
   "source": [
    "#Preliminary check of each column's data type and values\n",
    "for col in map_df.columns:\n",
    "    print(map_df[col].dtype, col, map_df[col].unique()[:10])"
   ]
  },
  {
   "cell_type": "code",
   "execution_count": null,
   "metadata": {},
   "outputs": [],
   "source": [
    "map_df[map_df.NAME.str.contains(\"EXPRESSWAY\")]"
   ]
  },
  {
   "cell_type": "code",
   "execution_count": null,
   "metadata": {},
   "outputs": [],
   "source": []
  }
 ],
 "metadata": {
  "kernelspec": {
   "display_name": "Python 3.9.7 ('base')",
   "language": "python",
   "name": "python3"
  },
  "language_info": {
   "codemirror_mode": {
    "name": "ipython",
    "version": 3
   },
   "file_extension": ".py",
   "mimetype": "text/x-python",
   "name": "python",
   "nbconvert_exporter": "python",
   "pygments_lexer": "ipython3",
   "version": "3.9.7"
  },
  "orig_nbformat": 4,
  "vscode": {
   "interpreter": {
    "hash": "4a7c6d69fb3a3f26e6f63a114093cfe707b814febc8ad073a129e5428b5fee5f"
   }
  }
 },
 "nbformat": 4,
 "nbformat_minor": 2
}
