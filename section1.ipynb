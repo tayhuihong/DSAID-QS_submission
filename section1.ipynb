{
 "cells": [
  {
   "cell_type": "markdown",
   "metadata": {},
   "source": [
    "# Section 1\n",
    "A deck of slides for each section, preferably in *.pptx or &.pdf form"
   ]
  },
  {
   "cell_type": "markdown",
   "metadata": {},
   "source": [
    "### Import libraries and dataset\n",
    "---"
   ]
  },
  {
   "cell_type": "code",
   "execution_count": 132,
   "metadata": {},
   "outputs": [
    {
     "name": "stdout",
     "output_type": "stream",
     "text": [
      "Collecting geopandas\n",
      "  Downloading geopandas-0.11.1-py3-none-any.whl (1.0 MB)\n",
      "Requirement already satisfied: packaging in c:\\users\\huihong\\anaconda3\\lib\\site-packages (from geopandas) (21.0)\n",
      "Collecting fiona>=1.8\n",
      "  Using cached Fiona-1.8.21.tar.gz (1.0 MB)\n",
      "  Using cached Fiona-1.8.20.tar.gz (1.3 MB)\n",
      "  Using cached Fiona-1.8.19.tar.gz (1.3 MB)\n",
      "  Using cached Fiona-1.8.18.tar.gz (1.3 MB)\n",
      "  Using cached Fiona-1.8.17.tar.gz (1.3 MB)\n",
      "  Using cached Fiona-1.8.16.tar.gz (1.3 MB)\n",
      "  Using cached Fiona-1.8.15.tar.gz (1.3 MB)\n",
      "  Using cached Fiona-1.8.14.tar.gz (1.3 MB)\n",
      "  Using cached Fiona-1.8.13.post1.tar.gz (1.2 MB)\n",
      "  Using cached Fiona-1.8.13.tar.gz (1.2 MB)\n",
      "  Using cached Fiona-1.8.12.tar.gz (1.2 MB)\n",
      "  Using cached Fiona-1.8.11.tar.gz (1.2 MB)\n",
      "  Using cached Fiona-1.8.10.tar.gz (1.2 MB)\n",
      "  Using cached Fiona-1.8.9.post2.tar.gz (1.2 MB)\n",
      "  Using cached Fiona-1.8.9.post1.tar.gz (1.2 MB)\n",
      "  Using cached Fiona-1.8.9.tar.gz (1.2 MB)\n",
      "  Using cached Fiona-1.8.8.tar.gz (1.7 MB)\n",
      "  Using cached Fiona-1.8.7.tar.gz (1.7 MB)\n",
      "  Using cached Fiona-1.8.6.tar.gz (1.7 MB)\n",
      "  Using cached Fiona-1.8.5.tar.gz (1.7 MB)\n",
      "  Using cached Fiona-1.8.4.tar.gz (1.1 MB)\n",
      "  Using cached Fiona-1.8.3.tar.gz (1.1 MB)\n",
      "  Using cached Fiona-1.8.2.tar.gz (1.2 MB)\n",
      "  Using cached Fiona-1.8.1.tar.gz (1.1 MB)\n",
      "  Using cached Fiona-1.8.0.tar.gz (1.4 MB)\n",
      "Collecting geopandas\n",
      "  Downloading geopandas-0.11.0-py3-none-any.whl (1.0 MB)\n",
      "  Using cached geopandas-0.10.2-py2.py3-none-any.whl (1.0 MB)\n",
      "Requirement already satisfied: pyproj>=2.2.0 in c:\\users\\huihong\\anaconda3\\lib\\site-packages (from geopandas) (3.3.0)\n",
      "Requirement already satisfied: pandas>=0.25.0 in c:\\users\\huihong\\anaconda3\\lib\\site-packages (from geopandas) (1.3.4)\n",
      "Requirement already satisfied: shapely>=1.6 in c:\\users\\huihong\\anaconda3\\lib\\site-packages (from geopandas) (1.8.1.post1)\n",
      "  Using cached geopandas-0.10.1-py2.py3-none-any.whl (1.0 MB)\n",
      "  Using cached geopandas-0.10.0-py2.py3-none-any.whl (1.0 MB)\n",
      "  Using cached geopandas-0.9.0-py2.py3-none-any.whl (994 kB)\n",
      "  Using cached geopandas-0.8.2-py2.py3-none-any.whl (962 kB)\n",
      "Collecting fiona\n",
      "  Using cached Fiona-1.7.13.tar.gz (731 kB)\n",
      "Requirement already satisfied: python-dateutil>=2.7.3 in c:\\users\\huihong\\anaconda3\\lib\\site-packages (from pandas>=0.25.0->geopandas) (2.8.2)\n",
      "Requirement already satisfied: pytz>=2017.3 in c:\\users\\huihong\\anaconda3\\lib\\site-packages (from pandas>=0.25.0->geopandas) (2021.3)\n",
      "Requirement already satisfied: numpy>=1.17.3 in c:\\users\\huihong\\anaconda3\\lib\\site-packages (from pandas>=0.25.0->geopandas) (1.20.3)\n",
      "Requirement already satisfied: certifi in c:\\users\\huihong\\anaconda3\\lib\\site-packages (from pyproj>=2.2.0->geopandas) (2021.10.8)\n",
      "Requirement already satisfied: six>=1.5 in c:\\users\\huihong\\anaconda3\\lib\\site-packages (from python-dateutil>=2.7.3->pandas>=0.25.0->geopandas) (1.16.0)\n",
      "Requirement already satisfied: cligj>=0.4 in c:\\users\\huihong\\anaconda3\\lib\\site-packages (from fiona->geopandas) (0.7.2)\n",
      "Requirement already satisfied: click-plugins in c:\\users\\huihong\\anaconda3\\lib\\site-packages (from fiona->geopandas) (1.1.1)\n",
      "Requirement already satisfied: munch in c:\\users\\huihong\\anaconda3\\lib\\site-packages (from fiona->geopandas) (2.5.0)\n",
      "Requirement already satisfied: click>=4.0 in c:\\users\\huihong\\anaconda3\\lib\\site-packages (from cligj>=0.4->fiona->geopandas) (8.0.3)\n",
      "Requirement already satisfied: colorama in c:\\users\\huihong\\anaconda3\\lib\\site-packages (from click>=4.0->cligj>=0.4->fiona->geopandas) (0.4.4)\n",
      "Building wheels for collected packages: fiona\n",
      "  Building wheel for fiona (setup.py): started\n",
      "  Building wheel for fiona (setup.py): finished with status 'error'\n",
      "  Running setup.py clean for fiona\n",
      "Failed to build fiona\n",
      "Installing collected packages: fiona, geopandas\n",
      "    Running setup.py install for fiona: started\n",
      "    Running setup.py install for fiona: finished with status 'error'\n"
     ]
    },
    {
     "name": "stderr",
     "output_type": "stream",
     "text": [
      "    ERROR: Command errored out with exit status 1:\n",
      "     command: 'C:\\Users\\HuiHong\\anaconda3\\python.exe' -c 'import io, os, sys, setuptools, tokenize; sys.argv[0] = '\"'\"'C:\\\\Users\\\\HuiHong\\\\AppData\\\\Local\\\\Temp\\\\pip-install-4un8c0ja\\\\fiona_c88544f7451e476dba50722d674d95ae\\\\setup.py'\"'\"'; __file__='\"'\"'C:\\\\Users\\\\HuiHong\\\\AppData\\\\Local\\\\Temp\\\\pip-install-4un8c0ja\\\\fiona_c88544f7451e476dba50722d674d95ae\\\\setup.py'\"'\"';f = getattr(tokenize, '\"'\"'open'\"'\"', open)(__file__) if os.path.exists(__file__) else io.StringIO('\"'\"'from setuptools import setup; setup()'\"'\"');code = f.read().replace('\"'\"'\\r\\n'\"'\"', '\"'\"'\\n'\"'\"');f.close();exec(compile(code, __file__, '\"'\"'exec'\"'\"'))' egg_info --egg-base 'C:\\Users\\HuiHong\\AppData\\Local\\Temp\\pip-pip-egg-info-spqiyi5j'\n",
      "         cwd: C:\\Users\\HuiHong\\AppData\\Local\\Temp\\pip-install-4un8c0ja\\fiona_c88544f7451e476dba50722d674d95ae\\\n",
      "    Complete output (1 lines):\n",
      "    A GDAL API version must be specified. Provide a path to gdal-config using a GDAL_CONFIG environment variable or use a GDAL_VERSION environment variable.\n",
      "    ----------------------------------------\n",
      "WARNING: Discarding https://files.pythonhosted.org/packages/67/5c/4e028e84a1f0cb3f8a994217cf2366360ca984dfc1433f6171de527d0dca/Fiona-1.8.21.tar.gz#sha256=3a0edca2a7a070db405d71187214a43d2333a57b4097544a3fcc282066a58bfc (from https://pypi.org/simple/fiona/). Command errored out with exit status 1: python setup.py egg_info Check the logs for full command output.\n",
      "    ERROR: Command errored out with exit status 1:\n",
      "     command: 'C:\\Users\\HuiHong\\anaconda3\\python.exe' -c 'import io, os, sys, setuptools, tokenize; sys.argv[0] = '\"'\"'C:\\\\Users\\\\HuiHong\\\\AppData\\\\Local\\\\Temp\\\\pip-install-4un8c0ja\\\\fiona_c48a0614b68b4fedaff334bd278370b8\\\\setup.py'\"'\"'; __file__='\"'\"'C:\\\\Users\\\\HuiHong\\\\AppData\\\\Local\\\\Temp\\\\pip-install-4un8c0ja\\\\fiona_c48a0614b68b4fedaff334bd278370b8\\\\setup.py'\"'\"';f = getattr(tokenize, '\"'\"'open'\"'\"', open)(__file__) if os.path.exists(__file__) else io.StringIO('\"'\"'from setuptools import setup; setup()'\"'\"');code = f.read().replace('\"'\"'\\r\\n'\"'\"', '\"'\"'\\n'\"'\"');f.close();exec(compile(code, __file__, '\"'\"'exec'\"'\"'))' egg_info --egg-base 'C:\\Users\\HuiHong\\AppData\\Local\\Temp\\pip-pip-egg-info-9fs62cd4'\n",
      "         cwd: C:\\Users\\HuiHong\\AppData\\Local\\Temp\\pip-install-4un8c0ja\\fiona_c48a0614b68b4fedaff334bd278370b8\\\n",
      "    Complete output (1 lines):\n",
      "    A GDAL API version must be specified. Provide a path to gdal-config using a GDAL_CONFIG environment variable or use a GDAL_VERSION environment variable.\n",
      "    ----------------------------------------\n",
      "WARNING: Discarding https://files.pythonhosted.org/packages/ec/f7/093890341a7e8fbfcdfa04caf4dfb588ebab32c13ceaa6a3819da79ea106/Fiona-1.8.20.tar.gz#sha256=a70502d2857b82f749c09cb0dea3726787747933a2a1599b5ab787d74e3c143b (from https://pypi.org/simple/fiona/). Command errored out with exit status 1: python setup.py egg_info Check the logs for full command output.\n",
      "    ERROR: Command errored out with exit status 1:\n",
      "     command: 'C:\\Users\\HuiHong\\anaconda3\\python.exe' -c 'import io, os, sys, setuptools, tokenize; sys.argv[0] = '\"'\"'C:\\\\Users\\\\HuiHong\\\\AppData\\\\Local\\\\Temp\\\\pip-install-4un8c0ja\\\\fiona_0913461de21e4d7aa296039a17237670\\\\setup.py'\"'\"'; __file__='\"'\"'C:\\\\Users\\\\HuiHong\\\\AppData\\\\Local\\\\Temp\\\\pip-install-4un8c0ja\\\\fiona_0913461de21e4d7aa296039a17237670\\\\setup.py'\"'\"';f = getattr(tokenize, '\"'\"'open'\"'\"', open)(__file__) if os.path.exists(__file__) else io.StringIO('\"'\"'from setuptools import setup; setup()'\"'\"');code = f.read().replace('\"'\"'\\r\\n'\"'\"', '\"'\"'\\n'\"'\"');f.close();exec(compile(code, __file__, '\"'\"'exec'\"'\"'))' egg_info --egg-base 'C:\\Users\\HuiHong\\AppData\\Local\\Temp\\pip-pip-egg-info-0fy1ktsz'\n",
      "         cwd: C:\\Users\\HuiHong\\AppData\\Local\\Temp\\pip-install-4un8c0ja\\fiona_0913461de21e4d7aa296039a17237670\\\n",
      "    Complete output (1 lines):\n",
      "    A GDAL API version must be specified. Provide a path to gdal-config using a GDAL_CONFIG environment variable or use a GDAL_VERSION environment variable.\n",
      "    ----------------------------------------\n",
      "WARNING: Discarding https://files.pythonhosted.org/packages/a0/d9/6042aeb073d11341f7726de0586ff71c13117c34959dcf07bd4ee6d4b93e/Fiona-1.8.19.tar.gz#sha256=b9059e0b29c2e9e6b817e53f941e77e1aca7075f986005d38db307067b60458f (from https://pypi.org/simple/fiona/). Command errored out with exit status 1: python setup.py egg_info Check the logs for full command output.\n",
      "    ERROR: Command errored out with exit status 1:\n",
      "     command: 'C:\\Users\\HuiHong\\anaconda3\\python.exe' -c 'import io, os, sys, setuptools, tokenize; sys.argv[0] = '\"'\"'C:\\\\Users\\\\HuiHong\\\\AppData\\\\Local\\\\Temp\\\\pip-install-4un8c0ja\\\\fiona_c57858bf1a954198aba1590f0bcdd314\\\\setup.py'\"'\"'; __file__='\"'\"'C:\\\\Users\\\\HuiHong\\\\AppData\\\\Local\\\\Temp\\\\pip-install-4un8c0ja\\\\fiona_c57858bf1a954198aba1590f0bcdd314\\\\setup.py'\"'\"';f = getattr(tokenize, '\"'\"'open'\"'\"', open)(__file__) if os.path.exists(__file__) else io.StringIO('\"'\"'from setuptools import setup; setup()'\"'\"');code = f.read().replace('\"'\"'\\r\\n'\"'\"', '\"'\"'\\n'\"'\"');f.close();exec(compile(code, __file__, '\"'\"'exec'\"'\"'))' egg_info --egg-base 'C:\\Users\\HuiHong\\AppData\\Local\\Temp\\pip-pip-egg-info-3ld7vlwi'\n",
      "         cwd: C:\\Users\\HuiHong\\AppData\\Local\\Temp\\pip-install-4un8c0ja\\fiona_c57858bf1a954198aba1590f0bcdd314\\\n",
      "    Complete output (1 lines):\n",
      "    A GDAL API version must be specified. Provide a path to gdal-config using a GDAL_CONFIG environment variable or use a GDAL_VERSION environment variable.\n",
      "    ----------------------------------------\n",
      "WARNING: Discarding https://files.pythonhosted.org/packages/9f/e8/401cdaa58d862a25c4b3365acf7d2bd7ac77191e3dc9acdcdac0eff20ff0/Fiona-1.8.18.tar.gz#sha256=b732ece0ff8886a29c439723a3e1fc382718804bb057519d537a81308854967a (from https://pypi.org/simple/fiona/). Command errored out with exit status 1: python setup.py egg_info Check the logs for full command output.\n",
      "    ERROR: Command errored out with exit status 1:\n",
      "     command: 'C:\\Users\\HuiHong\\anaconda3\\python.exe' -c 'import io, os, sys, setuptools, tokenize; sys.argv[0] = '\"'\"'C:\\\\Users\\\\HuiHong\\\\AppData\\\\Local\\\\Temp\\\\pip-install-4un8c0ja\\\\fiona_8d13cabfe3c7458bb9b9053c7621a272\\\\setup.py'\"'\"'; __file__='\"'\"'C:\\\\Users\\\\HuiHong\\\\AppData\\\\Local\\\\Temp\\\\pip-install-4un8c0ja\\\\fiona_8d13cabfe3c7458bb9b9053c7621a272\\\\setup.py'\"'\"';f = getattr(tokenize, '\"'\"'open'\"'\"', open)(__file__) if os.path.exists(__file__) else io.StringIO('\"'\"'from setuptools import setup; setup()'\"'\"');code = f.read().replace('\"'\"'\\r\\n'\"'\"', '\"'\"'\\n'\"'\"');f.close();exec(compile(code, __file__, '\"'\"'exec'\"'\"'))' egg_info --egg-base 'C:\\Users\\HuiHong\\AppData\\Local\\Temp\\pip-pip-egg-info-ug4h0wnz'\n",
      "         cwd: C:\\Users\\HuiHong\\AppData\\Local\\Temp\\pip-install-4un8c0ja\\fiona_8d13cabfe3c7458bb9b9053c7621a272\\\n",
      "    Complete output (1 lines):\n",
      "    A GDAL API version must be specified. Provide a path to gdal-config using a GDAL_CONFIG environment variable or use a GDAL_VERSION environment variable.\n",
      "    ----------------------------------------\n",
      "WARNING: Discarding https://files.pythonhosted.org/packages/88/62/69347ba2c41b526e1953c4cb66d51170b2869808863c03af202ba0121670/Fiona-1.8.17.tar.gz#sha256=716201c21246587f374785bec6d6a20a984fe1f6c2b0e83bf15127eb8f724d0c (from https://pypi.org/simple/fiona/). Command errored out with exit status 1: python setup.py egg_info Check the logs for full command output.\n",
      "    ERROR: Command errored out with exit status 1:\n",
      "     command: 'C:\\Users\\HuiHong\\anaconda3\\python.exe' -c 'import io, os, sys, setuptools, tokenize; sys.argv[0] = '\"'\"'C:\\\\Users\\\\HuiHong\\\\AppData\\\\Local\\\\Temp\\\\pip-install-4un8c0ja\\\\fiona_4ff9f08190d54d2692af2bc257d04847\\\\setup.py'\"'\"'; __file__='\"'\"'C:\\\\Users\\\\HuiHong\\\\AppData\\\\Local\\\\Temp\\\\pip-install-4un8c0ja\\\\fiona_4ff9f08190d54d2692af2bc257d04847\\\\setup.py'\"'\"';f = getattr(tokenize, '\"'\"'open'\"'\"', open)(__file__) if os.path.exists(__file__) else io.StringIO('\"'\"'from setuptools import setup; setup()'\"'\"');code = f.read().replace('\"'\"'\\r\\n'\"'\"', '\"'\"'\\n'\"'\"');f.close();exec(compile(code, __file__, '\"'\"'exec'\"'\"'))' egg_info --egg-base 'C:\\Users\\HuiHong\\AppData\\Local\\Temp\\pip-pip-egg-info-8w_ksc4h'\n",
      "         cwd: C:\\Users\\HuiHong\\AppData\\Local\\Temp\\pip-install-4un8c0ja\\fiona_4ff9f08190d54d2692af2bc257d04847\\\n",
      "    Complete output (1 lines):\n",
      "    A GDAL API version must be specified. Provide a path to gdal-config using a GDAL_CONFIG environment variable or use a GDAL_VERSION environment variable.\n",
      "    ----------------------------------------\n",
      "WARNING: Discarding https://files.pythonhosted.org/packages/1e/60/dfc6115a11338d8aa96cacd8c60635223d9c97d61d556c90acc5dfd663fa/Fiona-1.8.16.tar.gz#sha256=fd6dfb65959becc916e9f6928618bfd59c16cdbc413ece0fbac61489cd11255f (from https://pypi.org/simple/fiona/). Command errored out with exit status 1: python setup.py egg_info Check the logs for full command output.\n",
      "    ERROR: Command errored out with exit status 1:\n",
      "     command: 'C:\\Users\\HuiHong\\anaconda3\\python.exe' -c 'import io, os, sys, setuptools, tokenize; sys.argv[0] = '\"'\"'C:\\\\Users\\\\HuiHong\\\\AppData\\\\Local\\\\Temp\\\\pip-install-4un8c0ja\\\\fiona_1588b804d21d4583a2a84ea5eb7d872d\\\\setup.py'\"'\"'; __file__='\"'\"'C:\\\\Users\\\\HuiHong\\\\AppData\\\\Local\\\\Temp\\\\pip-install-4un8c0ja\\\\fiona_1588b804d21d4583a2a84ea5eb7d872d\\\\setup.py'\"'\"';f = getattr(tokenize, '\"'\"'open'\"'\"', open)(__file__) if os.path.exists(__file__) else io.StringIO('\"'\"'from setuptools import setup; setup()'\"'\"');code = f.read().replace('\"'\"'\\r\\n'\"'\"', '\"'\"'\\n'\"'\"');f.close();exec(compile(code, __file__, '\"'\"'exec'\"'\"'))' egg_info --egg-base 'C:\\Users\\HuiHong\\AppData\\Local\\Temp\\pip-pip-egg-info-ez038dn_'\n",
      "         cwd: C:\\Users\\HuiHong\\AppData\\Local\\Temp\\pip-install-4un8c0ja\\fiona_1588b804d21d4583a2a84ea5eb7d872d\\\n",
      "    Complete output (1 lines):\n",
      "    A GDAL API version must be specified. Provide a path to gdal-config using a GDAL_CONFIG environment variable or use a GDAL_VERSION environment variable.\n",
      "    ----------------------------------------\n",
      "WARNING: Discarding https://files.pythonhosted.org/packages/55/2f/17450ec2c8fcc720a8a3e4d9a383499508475c7cfb90f7eca9fb585ac598/Fiona-1.8.15.tar.gz#sha256=3b1c9b5c834fae2fe947cfaea176db890bc6750d1a6ba9f54d969c19ffcd191e (from https://pypi.org/simple/fiona/). Command errored out with exit status 1: python setup.py egg_info Check the logs for full command output.\n",
      "    ERROR: Command errored out with exit status 1:\n",
      "     command: 'C:\\Users\\HuiHong\\anaconda3\\python.exe' -c 'import io, os, sys, setuptools, tokenize; sys.argv[0] = '\"'\"'C:\\\\Users\\\\HuiHong\\\\AppData\\\\Local\\\\Temp\\\\pip-install-4un8c0ja\\\\fiona_0a26ad78e8c74bcd86f39c4776402fab\\\\setup.py'\"'\"'; __file__='\"'\"'C:\\\\Users\\\\HuiHong\\\\AppData\\\\Local\\\\Temp\\\\pip-install-4un8c0ja\\\\fiona_0a26ad78e8c74bcd86f39c4776402fab\\\\setup.py'\"'\"';f = getattr(tokenize, '\"'\"'open'\"'\"', open)(__file__) if os.path.exists(__file__) else io.StringIO('\"'\"'from setuptools import setup; setup()'\"'\"');code = f.read().replace('\"'\"'\\r\\n'\"'\"', '\"'\"'\\n'\"'\"');f.close();exec(compile(code, __file__, '\"'\"'exec'\"'\"'))' egg_info --egg-base 'C:\\Users\\HuiHong\\AppData\\Local\\Temp\\pip-pip-egg-info-ejumo8kn'\n",
      "         cwd: C:\\Users\\HuiHong\\AppData\\Local\\Temp\\pip-install-4un8c0ja\\fiona_0a26ad78e8c74bcd86f39c4776402fab\\\n",
      "    Complete output (1 lines):\n",
      "    A GDAL API version must be specified. Provide a path to gdal-config using a GDAL_CONFIG environment variable or use a GDAL_VERSION environment variable.\n",
      "    ----------------------------------------\n",
      "WARNING: Discarding https://files.pythonhosted.org/packages/5c/fd/5ec54f2d9b3d5dd23dd443fad5630d6b872e2664814c68b856c47e0d65af/Fiona-1.8.14.tar.gz#sha256=6eac038206c89d2cf5f99ea38b81cc228dc21eac5f47870a9a32d453b0007f4d (from https://pypi.org/simple/fiona/). Command errored out with exit status 1: python setup.py egg_info Check the logs for full command output.\n",
      "    ERROR: Command errored out with exit status 1:\n",
      "     command: 'C:\\Users\\HuiHong\\anaconda3\\python.exe' -c 'import io, os, sys, setuptools, tokenize; sys.argv[0] = '\"'\"'C:\\\\Users\\\\HuiHong\\\\AppData\\\\Local\\\\Temp\\\\pip-install-4un8c0ja\\\\fiona_adfbb68878764640b79c4c3eea3d6b40\\\\setup.py'\"'\"'; __file__='\"'\"'C:\\\\Users\\\\HuiHong\\\\AppData\\\\Local\\\\Temp\\\\pip-install-4un8c0ja\\\\fiona_adfbb68878764640b79c4c3eea3d6b40\\\\setup.py'\"'\"';f = getattr(tokenize, '\"'\"'open'\"'\"', open)(__file__) if os.path.exists(__file__) else io.StringIO('\"'\"'from setuptools import setup; setup()'\"'\"');code = f.read().replace('\"'\"'\\r\\n'\"'\"', '\"'\"'\\n'\"'\"');f.close();exec(compile(code, __file__, '\"'\"'exec'\"'\"'))' egg_info --egg-base 'C:\\Users\\HuiHong\\AppData\\Local\\Temp\\pip-pip-egg-info-q91_ie01'\n",
      "         cwd: C:\\Users\\HuiHong\\AppData\\Local\\Temp\\pip-install-4un8c0ja\\fiona_adfbb68878764640b79c4c3eea3d6b40\\\n",
      "    Complete output (1 lines):\n",
      "    A GDAL API version must be specified. Provide a path to gdal-config using a GDAL_CONFIG environment variable or use a GDAL_VERSION environment variable.\n",
      "    ----------------------------------------\n",
      "WARNING: Discarding https://files.pythonhosted.org/packages/6d/42/f4a7cac53b28fa70e9a93d0e89a24d33e14826dad6644b699362ad84dde0/Fiona-1.8.13.post1.tar.gz#sha256=1a432bf9fd56f089256c010da009c90d4a795c531a848132c965052185336600 (from https://pypi.org/simple/fiona/). Command errored out with exit status 1: python setup.py egg_info Check the logs for full command output.\n",
      "    ERROR: Command errored out with exit status 1:\n",
      "     command: 'C:\\Users\\HuiHong\\anaconda3\\python.exe' -c 'import io, os, sys, setuptools, tokenize; sys.argv[0] = '\"'\"'C:\\\\Users\\\\HuiHong\\\\AppData\\\\Local\\\\Temp\\\\pip-install-4un8c0ja\\\\fiona_68961d2bcf5547699085ffc553a6fcdb\\\\setup.py'\"'\"'; __file__='\"'\"'C:\\\\Users\\\\HuiHong\\\\AppData\\\\Local\\\\Temp\\\\pip-install-4un8c0ja\\\\fiona_68961d2bcf5547699085ffc553a6fcdb\\\\setup.py'\"'\"';f = getattr(tokenize, '\"'\"'open'\"'\"', open)(__file__) if os.path.exists(__file__) else io.StringIO('\"'\"'from setuptools import setup; setup()'\"'\"');code = f.read().replace('\"'\"'\\r\\n'\"'\"', '\"'\"'\\n'\"'\"');f.close();exec(compile(code, __file__, '\"'\"'exec'\"'\"'))' egg_info --egg-base 'C:\\Users\\HuiHong\\AppData\\Local\\Temp\\pip-pip-egg-info-v1xrnj0g'\n",
      "         cwd: C:\\Users\\HuiHong\\AppData\\Local\\Temp\\pip-install-4un8c0ja\\fiona_68961d2bcf5547699085ffc553a6fcdb\\\n",
      "    Complete output (1 lines):\n",
      "    A GDAL API version must be specified. Provide a path to gdal-config using a GDAL_CONFIG environment variable or use a GDAL_VERSION environment variable.\n",
      "    ----------------------------------------\n",
      "WARNING: Discarding https://files.pythonhosted.org/packages/be/04/31d0a6f03943b1684f32c9b861be40c1fd282468fa6bd54ddf4a774e6b0f/Fiona-1.8.13.tar.gz#sha256=5ec34898c8b983a723fb4e949dd3e0ed7e691c303e51f6bfd61e52ac9ac813ae (from https://pypi.org/simple/fiona/). Command errored out with exit status 1: python setup.py egg_info Check the logs for full command output.\n",
      "    ERROR: Command errored out with exit status 1:\n",
      "     command: 'C:\\Users\\HuiHong\\anaconda3\\python.exe' -c 'import io, os, sys, setuptools, tokenize; sys.argv[0] = '\"'\"'C:\\\\Users\\\\HuiHong\\\\AppData\\\\Local\\\\Temp\\\\pip-install-4un8c0ja\\\\fiona_4787efac8c6b4db6b74e963e59859570\\\\setup.py'\"'\"'; __file__='\"'\"'C:\\\\Users\\\\HuiHong\\\\AppData\\\\Local\\\\Temp\\\\pip-install-4un8c0ja\\\\fiona_4787efac8c6b4db6b74e963e59859570\\\\setup.py'\"'\"';f = getattr(tokenize, '\"'\"'open'\"'\"', open)(__file__) if os.path.exists(__file__) else io.StringIO('\"'\"'from setuptools import setup; setup()'\"'\"');code = f.read().replace('\"'\"'\\r\\n'\"'\"', '\"'\"'\\n'\"'\"');f.close();exec(compile(code, __file__, '\"'\"'exec'\"'\"'))' egg_info --egg-base 'C:\\Users\\HuiHong\\AppData\\Local\\Temp\\pip-pip-egg-info-fuv5bdzo'\n",
      "         cwd: C:\\Users\\HuiHong\\AppData\\Local\\Temp\\pip-install-4un8c0ja\\fiona_4787efac8c6b4db6b74e963e59859570\\\n",
      "    Complete output (1 lines):\n",
      "    A GDAL API version must be specified. Provide a path to gdal-config using a GDAL_CONFIG environment variable or use a GDAL_VERSION environment variable.\n",
      "    ----------------------------------------\n",
      "WARNING: Discarding https://files.pythonhosted.org/packages/97/d8/feab39987296437fbdc3029fb39752a14355d217d73b93471010b8dd63a3/Fiona-1.8.12.tar.gz#sha256=c9266ddf6ae2a64fcea20014ddf27f800ac07584f2fdb09c2a02f3b3a52e371c (from https://pypi.org/simple/fiona/). Command errored out with exit status 1: python setup.py egg_info Check the logs for full command output.\n",
      "    ERROR: Command errored out with exit status 1:\n",
      "     command: 'C:\\Users\\HuiHong\\anaconda3\\python.exe' -c 'import io, os, sys, setuptools, tokenize; sys.argv[0] = '\"'\"'C:\\\\Users\\\\HuiHong\\\\AppData\\\\Local\\\\Temp\\\\pip-install-4un8c0ja\\\\fiona_24a9aaab8fba4d1e93c06ab0f7d08b9e\\\\setup.py'\"'\"'; __file__='\"'\"'C:\\\\Users\\\\HuiHong\\\\AppData\\\\Local\\\\Temp\\\\pip-install-4un8c0ja\\\\fiona_24a9aaab8fba4d1e93c06ab0f7d08b9e\\\\setup.py'\"'\"';f = getattr(tokenize, '\"'\"'open'\"'\"', open)(__file__) if os.path.exists(__file__) else io.StringIO('\"'\"'from setuptools import setup; setup()'\"'\"');code = f.read().replace('\"'\"'\\r\\n'\"'\"', '\"'\"'\\n'\"'\"');f.close();exec(compile(code, __file__, '\"'\"'exec'\"'\"'))' egg_info --egg-base 'C:\\Users\\HuiHong\\AppData\\Local\\Temp\\pip-pip-egg-info-8_0kosjt'\n",
      "         cwd: C:\\Users\\HuiHong\\AppData\\Local\\Temp\\pip-install-4un8c0ja\\fiona_24a9aaab8fba4d1e93c06ab0f7d08b9e\\\n",
      "    Complete output (1 lines):\n",
      "    A GDAL API version must be specified. Provide a path to gdal-config using a GDAL_CONFIG environment variable or use a GDAL_VERSION environment variable.\n",
      "    ----------------------------------------\n",
      "WARNING: Discarding https://files.pythonhosted.org/packages/9d/f4/0a0ddc6174c4a93679b5f1dd3535e7ef8989828e6d5f86112de681f8c87b/Fiona-1.8.11.tar.gz#sha256=1e7ca9e051f5bffa1c43c70d573da9ca223fc076b84fa73380614fc02b9eb7f6 (from https://pypi.org/simple/fiona/). Command errored out with exit status 1: python setup.py egg_info Check the logs for full command output.\n",
      "    ERROR: Command errored out with exit status 1:\n",
      "     command: 'C:\\Users\\HuiHong\\anaconda3\\python.exe' -c 'import io, os, sys, setuptools, tokenize; sys.argv[0] = '\"'\"'C:\\\\Users\\\\HuiHong\\\\AppData\\\\Local\\\\Temp\\\\pip-install-4un8c0ja\\\\fiona_551154d6365642268bfa382e32ed1ea7\\\\setup.py'\"'\"'; __file__='\"'\"'C:\\\\Users\\\\HuiHong\\\\AppData\\\\Local\\\\Temp\\\\pip-install-4un8c0ja\\\\fiona_551154d6365642268bfa382e32ed1ea7\\\\setup.py'\"'\"';f = getattr(tokenize, '\"'\"'open'\"'\"', open)(__file__) if os.path.exists(__file__) else io.StringIO('\"'\"'from setuptools import setup; setup()'\"'\"');code = f.read().replace('\"'\"'\\r\\n'\"'\"', '\"'\"'\\n'\"'\"');f.close();exec(compile(code, __file__, '\"'\"'exec'\"'\"'))' egg_info --egg-base 'C:\\Users\\HuiHong\\AppData\\Local\\Temp\\pip-pip-egg-info-_nspi58a'\n",
      "         cwd: C:\\Users\\HuiHong\\AppData\\Local\\Temp\\pip-install-4un8c0ja\\fiona_551154d6365642268bfa382e32ed1ea7\\\n",
      "    Complete output (1 lines):\n",
      "    A GDAL API version must be specified. Provide a path to gdal-config using a GDAL_CONFIG environment variable or use a GDAL_VERSION environment variable.\n",
      "    ----------------------------------------\n",
      "WARNING: Discarding https://files.pythonhosted.org/packages/13/73/f80b491ed8559326fab202a6d6333a3cd6e8be1e9d782bc6c0d03d476457/Fiona-1.8.10.tar.gz#sha256=ff562eb2f3960e21f8c7f050ddd7f47a763869ea14afc2234a40df72666c6a2c (from https://pypi.org/simple/fiona/). Command errored out with exit status 1: python setup.py egg_info Check the logs for full command output.\n",
      "    ERROR: Command errored out with exit status 1:\n",
      "     command: 'C:\\Users\\HuiHong\\anaconda3\\python.exe' -c 'import io, os, sys, setuptools, tokenize; sys.argv[0] = '\"'\"'C:\\\\Users\\\\HuiHong\\\\AppData\\\\Local\\\\Temp\\\\pip-install-4un8c0ja\\\\fiona_02519b121e7b4634bcaef0d9402982af\\\\setup.py'\"'\"'; __file__='\"'\"'C:\\\\Users\\\\HuiHong\\\\AppData\\\\Local\\\\Temp\\\\pip-install-4un8c0ja\\\\fiona_02519b121e7b4634bcaef0d9402982af\\\\setup.py'\"'\"';f = getattr(tokenize, '\"'\"'open'\"'\"', open)(__file__) if os.path.exists(__file__) else io.StringIO('\"'\"'from setuptools import setup; setup()'\"'\"');code = f.read().replace('\"'\"'\\r\\n'\"'\"', '\"'\"'\\n'\"'\"');f.close();exec(compile(code, __file__, '\"'\"'exec'\"'\"'))' egg_info --egg-base 'C:\\Users\\HuiHong\\AppData\\Local\\Temp\\pip-pip-egg-info-rre8_gl0'\n",
      "         cwd: C:\\Users\\HuiHong\\AppData\\Local\\Temp\\pip-install-4un8c0ja\\fiona_02519b121e7b4634bcaef0d9402982af\\\n",
      "    Complete output (1 lines):\n",
      "    A GDAL API version must be specified. Provide a path to gdal-config using a GDAL_CONFIG environment variable or use a GDAL_VERSION environment variable.\n",
      "    ----------------------------------------\n",
      "WARNING: Discarding https://files.pythonhosted.org/packages/9b/52/45e75507660ce0e86176d0f59b659560f687e2c7e9ebf82a10e7dcd2d3b7/Fiona-1.8.9.post2.tar.gz#sha256=210fb038b579fab38f35ddbdd31b9725f4d5099b3edfd4b87c983e5d47b79983 (from https://pypi.org/simple/fiona/). Command errored out with exit status 1: python setup.py egg_info Check the logs for full command output.\n",
      "    ERROR: Command errored out with exit status 1:\n",
      "     command: 'C:\\Users\\HuiHong\\anaconda3\\python.exe' -c 'import io, os, sys, setuptools, tokenize; sys.argv[0] = '\"'\"'C:\\\\Users\\\\HuiHong\\\\AppData\\\\Local\\\\Temp\\\\pip-install-4un8c0ja\\\\fiona_1716c4e2bed844279ff5deb014bbf3e1\\\\setup.py'\"'\"'; __file__='\"'\"'C:\\\\Users\\\\HuiHong\\\\AppData\\\\Local\\\\Temp\\\\pip-install-4un8c0ja\\\\fiona_1716c4e2bed844279ff5deb014bbf3e1\\\\setup.py'\"'\"';f = getattr(tokenize, '\"'\"'open'\"'\"', open)(__file__) if os.path.exists(__file__) else io.StringIO('\"'\"'from setuptools import setup; setup()'\"'\"');code = f.read().replace('\"'\"'\\r\\n'\"'\"', '\"'\"'\\n'\"'\"');f.close();exec(compile(code, __file__, '\"'\"'exec'\"'\"'))' egg_info --egg-base 'C:\\Users\\HuiHong\\AppData\\Local\\Temp\\pip-pip-egg-info-pz8s93jq'\n",
      "         cwd: C:\\Users\\HuiHong\\AppData\\Local\\Temp\\pip-install-4un8c0ja\\fiona_1716c4e2bed844279ff5deb014bbf3e1\\\n",
      "    Complete output (1 lines):\n",
      "    A GDAL API version must be specified. Provide a path to gdal-config using a GDAL_CONFIG environment variable or use a GDAL_VERSION environment variable.\n",
      "    ----------------------------------------\n",
      "WARNING: Discarding https://files.pythonhosted.org/packages/0e/a4/d9dd7399be809d3990f5000fb6ae43189ea26ae88be1bed3a4c9ddc1becc/Fiona-1.8.9.post1.tar.gz#sha256=d5e0ea0b8addffe9cba4cb59e2bd495b015230e7a1b1597974f5048211930199 (from https://pypi.org/simple/fiona/). Command errored out with exit status 1: python setup.py egg_info Check the logs for full command output.\n",
      "    ERROR: Command errored out with exit status 1:\n",
      "     command: 'C:\\Users\\HuiHong\\anaconda3\\python.exe' -c 'import io, os, sys, setuptools, tokenize; sys.argv[0] = '\"'\"'C:\\\\Users\\\\HuiHong\\\\AppData\\\\Local\\\\Temp\\\\pip-install-4un8c0ja\\\\fiona_bb00a97af9f64d7482acc4e5c63e9b35\\\\setup.py'\"'\"'; __file__='\"'\"'C:\\\\Users\\\\HuiHong\\\\AppData\\\\Local\\\\Temp\\\\pip-install-4un8c0ja\\\\fiona_bb00a97af9f64d7482acc4e5c63e9b35\\\\setup.py'\"'\"';f = getattr(tokenize, '\"'\"'open'\"'\"', open)(__file__) if os.path.exists(__file__) else io.StringIO('\"'\"'from setuptools import setup; setup()'\"'\"');code = f.read().replace('\"'\"'\\r\\n'\"'\"', '\"'\"'\\n'\"'\"');f.close();exec(compile(code, __file__, '\"'\"'exec'\"'\"'))' egg_info --egg-base 'C:\\Users\\HuiHong\\AppData\\Local\\Temp\\pip-pip-egg-info-n1pfk0d8'\n",
      "         cwd: C:\\Users\\HuiHong\\AppData\\Local\\Temp\\pip-install-4un8c0ja\\fiona_bb00a97af9f64d7482acc4e5c63e9b35\\\n",
      "    Complete output (1 lines):\n",
      "    A GDAL API version must be specified. Provide a path to gdal-config using a GDAL_CONFIG environment variable or use a GDAL_VERSION environment variable.\n",
      "    ----------------------------------------\n",
      "WARNING: Discarding https://files.pythonhosted.org/packages/ad/92/dcbd8c54d697c22f299b5af63b6df3acfbd06c6d72e249614c05be99337c/Fiona-1.8.9.tar.gz#sha256=4dd6e2f5327c1174143c7c8594a75d373bc72f2c9a2a6daee312c3186a128add (from https://pypi.org/simple/fiona/). Command errored out with exit status 1: python setup.py egg_info Check the logs for full command output.\n",
      "    ERROR: Command errored out with exit status 1:\n",
      "     command: 'C:\\Users\\HuiHong\\anaconda3\\python.exe' -c 'import io, os, sys, setuptools, tokenize; sys.argv[0] = '\"'\"'C:\\\\Users\\\\HuiHong\\\\AppData\\\\Local\\\\Temp\\\\pip-install-4un8c0ja\\\\fiona_d125c0e6651a4a16a93be504eba1267d\\\\setup.py'\"'\"'; __file__='\"'\"'C:\\\\Users\\\\HuiHong\\\\AppData\\\\Local\\\\Temp\\\\pip-install-4un8c0ja\\\\fiona_d125c0e6651a4a16a93be504eba1267d\\\\setup.py'\"'\"';f = getattr(tokenize, '\"'\"'open'\"'\"', open)(__file__) if os.path.exists(__file__) else io.StringIO('\"'\"'from setuptools import setup; setup()'\"'\"');code = f.read().replace('\"'\"'\\r\\n'\"'\"', '\"'\"'\\n'\"'\"');f.close();exec(compile(code, __file__, '\"'\"'exec'\"'\"'))' egg_info --egg-base 'C:\\Users\\HuiHong\\AppData\\Local\\Temp\\pip-pip-egg-info-rm4v1zfg'\n",
      "         cwd: C:\\Users\\HuiHong\\AppData\\Local\\Temp\\pip-install-4un8c0ja\\fiona_d125c0e6651a4a16a93be504eba1267d\\\n",
      "    Complete output (1 lines):\n",
      "    A GDAL API version must be specified. Provide a path to gdal-config using a GDAL_CONFIG environment variable or use a GDAL_VERSION environment variable.\n",
      "    ----------------------------------------\n",
      "WARNING: Discarding https://files.pythonhosted.org/packages/94/7f/e288db1ad63d759d494c30caae34f865e0c6927588c490705e91b7134193/Fiona-1.8.8.tar.gz#sha256=711c3be73203b37812992089445a1e4e9d3d6b64e667389f7b15406e15a91e83 (from https://pypi.org/simple/fiona/). Command errored out with exit status 1: python setup.py egg_info Check the logs for full command output.\n",
      "    ERROR: Command errored out with exit status 1:\n",
      "     command: 'C:\\Users\\HuiHong\\anaconda3\\python.exe' -c 'import io, os, sys, setuptools, tokenize; sys.argv[0] = '\"'\"'C:\\\\Users\\\\HuiHong\\\\AppData\\\\Local\\\\Temp\\\\pip-install-4un8c0ja\\\\fiona_37349850fb8c40389e011362bd31460b\\\\setup.py'\"'\"'; __file__='\"'\"'C:\\\\Users\\\\HuiHong\\\\AppData\\\\Local\\\\Temp\\\\pip-install-4un8c0ja\\\\fiona_37349850fb8c40389e011362bd31460b\\\\setup.py'\"'\"';f = getattr(tokenize, '\"'\"'open'\"'\"', open)(__file__) if os.path.exists(__file__) else io.StringIO('\"'\"'from setuptools import setup; setup()'\"'\"');code = f.read().replace('\"'\"'\\r\\n'\"'\"', '\"'\"'\\n'\"'\"');f.close();exec(compile(code, __file__, '\"'\"'exec'\"'\"'))' egg_info --egg-base 'C:\\Users\\HuiHong\\AppData\\Local\\Temp\\pip-pip-egg-info-egb0mgn9'\n",
      "         cwd: C:\\Users\\HuiHong\\AppData\\Local\\Temp\\pip-install-4un8c0ja\\fiona_37349850fb8c40389e011362bd31460b\\\n",
      "    Complete output (1 lines):\n",
      "    A GDAL API version must be specified. Provide a path to gdal-config using a GDAL_CONFIG environment variable or use a GDAL_VERSION environment variable.\n",
      "    ----------------------------------------\n",
      "WARNING: Discarding https://files.pythonhosted.org/packages/78/62/daafd070aebefa639df247705b97f13f7cfad43895581b5cae41bd886709/Fiona-1.8.7.tar.gz#sha256=a55a23615bad3e142d4e4cda97bb5de83c778a80049222e9dffae93c13b5cf93 (from https://pypi.org/simple/fiona/). Command errored out with exit status 1: python setup.py egg_info Check the logs for full command output.\n",
      "    ERROR: Command errored out with exit status 1:\n",
      "     command: 'C:\\Users\\HuiHong\\anaconda3\\python.exe' -c 'import io, os, sys, setuptools, tokenize; sys.argv[0] = '\"'\"'C:\\\\Users\\\\HuiHong\\\\AppData\\\\Local\\\\Temp\\\\pip-install-4un8c0ja\\\\fiona_02eaccb3ee8041b18903e394026fa87e\\\\setup.py'\"'\"'; __file__='\"'\"'C:\\\\Users\\\\HuiHong\\\\AppData\\\\Local\\\\Temp\\\\pip-install-4un8c0ja\\\\fiona_02eaccb3ee8041b18903e394026fa87e\\\\setup.py'\"'\"';f = getattr(tokenize, '\"'\"'open'\"'\"', open)(__file__) if os.path.exists(__file__) else io.StringIO('\"'\"'from setuptools import setup; setup()'\"'\"');code = f.read().replace('\"'\"'\\r\\n'\"'\"', '\"'\"'\\n'\"'\"');f.close();exec(compile(code, __file__, '\"'\"'exec'\"'\"'))' egg_info --egg-base 'C:\\Users\\HuiHong\\AppData\\Local\\Temp\\pip-pip-egg-info-vmo_wt99'\n",
      "         cwd: C:\\Users\\HuiHong\\AppData\\Local\\Temp\\pip-install-4un8c0ja\\fiona_02eaccb3ee8041b18903e394026fa87e\\\n",
      "    Complete output (1 lines):\n",
      "    A GDAL API version must be specified. Provide a path to gdal-config using a GDAL_CONFIG environment variable or use a GDAL_VERSION environment variable.\n",
      "    ----------------------------------------\n",
      "WARNING: Discarding https://files.pythonhosted.org/packages/41/9d/63696e7b1de42aad294d4781199a408bec593d8fdb80a2b4a788c911a33b/Fiona-1.8.6.tar.gz#sha256=fa31dfe8855b9cd0b128b47a4df558f1b8eda90d2181bff1dd9854e5556efb3e (from https://pypi.org/simple/fiona/). Command errored out with exit status 1: python setup.py egg_info Check the logs for full command output.\n",
      "    ERROR: Command errored out with exit status 1:\n",
      "     command: 'C:\\Users\\HuiHong\\anaconda3\\python.exe' -c 'import io, os, sys, setuptools, tokenize; sys.argv[0] = '\"'\"'C:\\\\Users\\\\HuiHong\\\\AppData\\\\Local\\\\Temp\\\\pip-install-4un8c0ja\\\\fiona_fad7efe734be4e2babe26e49b65ecf5c\\\\setup.py'\"'\"'; __file__='\"'\"'C:\\\\Users\\\\HuiHong\\\\AppData\\\\Local\\\\Temp\\\\pip-install-4un8c0ja\\\\fiona_fad7efe734be4e2babe26e49b65ecf5c\\\\setup.py'\"'\"';f = getattr(tokenize, '\"'\"'open'\"'\"', open)(__file__) if os.path.exists(__file__) else io.StringIO('\"'\"'from setuptools import setup; setup()'\"'\"');code = f.read().replace('\"'\"'\\r\\n'\"'\"', '\"'\"'\\n'\"'\"');f.close();exec(compile(code, __file__, '\"'\"'exec'\"'\"'))' egg_info --egg-base 'C:\\Users\\HuiHong\\AppData\\Local\\Temp\\pip-pip-egg-info-nrv8a0o3'\n",
      "         cwd: C:\\Users\\HuiHong\\AppData\\Local\\Temp\\pip-install-4un8c0ja\\fiona_fad7efe734be4e2babe26e49b65ecf5c\\\n",
      "    Complete output (1 lines):\n",
      "    A GDAL API version must be specified. Provide a path to gdal-config using a GDAL_CONFIG environment variable or use a GDAL_VERSION environment variable.\n",
      "    ----------------------------------------\n",
      "WARNING: Discarding https://files.pythonhosted.org/packages/7b/af/1c2c83c4a8363a4ce9fea817b1910b5e071bed012e18257faa2a0ab3cfe7/Fiona-1.8.5.tar.gz#sha256=4f5cc2d449edbbf693c83e24cdada72de7c41297383d16fcc92387eb445e9d35 (from https://pypi.org/simple/fiona/). Command errored out with exit status 1: python setup.py egg_info Check the logs for full command output.\n",
      "    ERROR: Command errored out with exit status 1:\n",
      "     command: 'C:\\Users\\HuiHong\\anaconda3\\python.exe' -c 'import io, os, sys, setuptools, tokenize; sys.argv[0] = '\"'\"'C:\\\\Users\\\\HuiHong\\\\AppData\\\\Local\\\\Temp\\\\pip-install-4un8c0ja\\\\fiona_f56ba58ca93b4a8787eb84e74c5a2124\\\\setup.py'\"'\"'; __file__='\"'\"'C:\\\\Users\\\\HuiHong\\\\AppData\\\\Local\\\\Temp\\\\pip-install-4un8c0ja\\\\fiona_f56ba58ca93b4a8787eb84e74c5a2124\\\\setup.py'\"'\"';f = getattr(tokenize, '\"'\"'open'\"'\"', open)(__file__) if os.path.exists(__file__) else io.StringIO('\"'\"'from setuptools import setup; setup()'\"'\"');code = f.read().replace('\"'\"'\\r\\n'\"'\"', '\"'\"'\\n'\"'\"');f.close();exec(compile(code, __file__, '\"'\"'exec'\"'\"'))' egg_info --egg-base 'C:\\Users\\HuiHong\\AppData\\Local\\Temp\\pip-pip-egg-info-g56dpqxv'\n",
      "         cwd: C:\\Users\\HuiHong\\AppData\\Local\\Temp\\pip-install-4un8c0ja\\fiona_f56ba58ca93b4a8787eb84e74c5a2124\\\n",
      "    Complete output (1 lines):\n",
      "    A GDAL API version must be specified. Provide a path to gdal-config using a GDAL_CONFIG environment variable or use a GDAL_VERSION environment variable.\n",
      "    ----------------------------------------\n",
      "WARNING: Discarding https://files.pythonhosted.org/packages/3a/16/84960540e9fce61d767fd2f0f1d95f4c63e99ab5d8fddc308e8b51b059b8/Fiona-1.8.4.tar.gz#sha256=aec9ab2e3513c9503ec123b1a8573bee55fc6a66e2ac07088c3376bf6738a424 (from https://pypi.org/simple/fiona/). Command errored out with exit status 1: python setup.py egg_info Check the logs for full command output.\n",
      "    ERROR: Command errored out with exit status 1:\n",
      "     command: 'C:\\Users\\HuiHong\\anaconda3\\python.exe' -c 'import io, os, sys, setuptools, tokenize; sys.argv[0] = '\"'\"'C:\\\\Users\\\\HuiHong\\\\AppData\\\\Local\\\\Temp\\\\pip-install-4un8c0ja\\\\fiona_6324cdc5e4d744b782c446e3c52e6196\\\\setup.py'\"'\"'; __file__='\"'\"'C:\\\\Users\\\\HuiHong\\\\AppData\\\\Local\\\\Temp\\\\pip-install-4un8c0ja\\\\fiona_6324cdc5e4d744b782c446e3c52e6196\\\\setup.py'\"'\"';f = getattr(tokenize, '\"'\"'open'\"'\"', open)(__file__) if os.path.exists(__file__) else io.StringIO('\"'\"'from setuptools import setup; setup()'\"'\"');code = f.read().replace('\"'\"'\\r\\n'\"'\"', '\"'\"'\\n'\"'\"');f.close();exec(compile(code, __file__, '\"'\"'exec'\"'\"'))' egg_info --egg-base 'C:\\Users\\HuiHong\\AppData\\Local\\Temp\\pip-pip-egg-info-j58ri2fw'\n",
      "         cwd: C:\\Users\\HuiHong\\AppData\\Local\\Temp\\pip-install-4un8c0ja\\fiona_6324cdc5e4d744b782c446e3c52e6196\\\n",
      "    Complete output (1 lines):\n",
      "    A GDAL API version must be specified. Provide a path to gdal-config using a GDAL_CONFIG environment variable or use a GDAL_VERSION environment variable.\n",
      "    ----------------------------------------\n",
      "WARNING: Discarding https://files.pythonhosted.org/packages/46/d1/fcdb32513a03abfde0d97fd9782ce0f8cc0540fa6c6ce783e87b94064964/Fiona-1.8.3.tar.gz#sha256=3e831100a23c3b6cd32b98baf0c9e2119d909b44a5cf4533d3625f61dcf2d2b1 (from https://pypi.org/simple/fiona/). Command errored out with exit status 1: python setup.py egg_info Check the logs for full command output.\n",
      "    ERROR: Command errored out with exit status 1:\n",
      "     command: 'C:\\Users\\HuiHong\\anaconda3\\python.exe' -c 'import io, os, sys, setuptools, tokenize; sys.argv[0] = '\"'\"'C:\\\\Users\\\\HuiHong\\\\AppData\\\\Local\\\\Temp\\\\pip-install-4un8c0ja\\\\fiona_039fb46e51844588af8fa85efd234493\\\\setup.py'\"'\"'; __file__='\"'\"'C:\\\\Users\\\\HuiHong\\\\AppData\\\\Local\\\\Temp\\\\pip-install-4un8c0ja\\\\fiona_039fb46e51844588af8fa85efd234493\\\\setup.py'\"'\"';f = getattr(tokenize, '\"'\"'open'\"'\"', open)(__file__) if os.path.exists(__file__) else io.StringIO('\"'\"'from setuptools import setup; setup()'\"'\"');code = f.read().replace('\"'\"'\\r\\n'\"'\"', '\"'\"'\\n'\"'\"');f.close();exec(compile(code, __file__, '\"'\"'exec'\"'\"'))' egg_info --egg-base 'C:\\Users\\HuiHong\\AppData\\Local\\Temp\\pip-pip-egg-info-8fr1nyna'\n",
      "         cwd: C:\\Users\\HuiHong\\AppData\\Local\\Temp\\pip-install-4un8c0ja\\fiona_039fb46e51844588af8fa85efd234493\\\n",
      "    Complete output (1 lines):\n",
      "    A GDAL API version must be specified. Provide a path to gdal-config using a GDAL_CONFIG environment variable or use a GDAL_VERSION environment variable.\n",
      "    ----------------------------------------\n",
      "WARNING: Discarding https://files.pythonhosted.org/packages/25/50/0466d5d83e1859c5ca38351ee932d64cc5635f9d4dad522879e58f4b0018/Fiona-1.8.2.tar.gz#sha256=4c6419b7ac29136708029f6a44b4ccd458735a4d241016c7b1bab41685c08d8f (from https://pypi.org/simple/fiona/). Command errored out with exit status 1: python setup.py egg_info Check the logs for full command output.\n",
      "    ERROR: Command errored out with exit status 1:\n",
      "     command: 'C:\\Users\\HuiHong\\anaconda3\\python.exe' -c 'import io, os, sys, setuptools, tokenize; sys.argv[0] = '\"'\"'C:\\\\Users\\\\HuiHong\\\\AppData\\\\Local\\\\Temp\\\\pip-install-4un8c0ja\\\\fiona_310acece43ba4b7ab1664b913e7bfb9c\\\\setup.py'\"'\"'; __file__='\"'\"'C:\\\\Users\\\\HuiHong\\\\AppData\\\\Local\\\\Temp\\\\pip-install-4un8c0ja\\\\fiona_310acece43ba4b7ab1664b913e7bfb9c\\\\setup.py'\"'\"';f = getattr(tokenize, '\"'\"'open'\"'\"', open)(__file__) if os.path.exists(__file__) else io.StringIO('\"'\"'from setuptools import setup; setup()'\"'\"');code = f.read().replace('\"'\"'\\r\\n'\"'\"', '\"'\"'\\n'\"'\"');f.close();exec(compile(code, __file__, '\"'\"'exec'\"'\"'))' egg_info --egg-base 'C:\\Users\\HuiHong\\AppData\\Local\\Temp\\pip-pip-egg-info-dfak0jwq'\n",
      "         cwd: C:\\Users\\HuiHong\\AppData\\Local\\Temp\\pip-install-4un8c0ja\\fiona_310acece43ba4b7ab1664b913e7bfb9c\\\n",
      "    Complete output (1 lines):\n",
      "    A GDAL API version must be specified. Provide a path to gdal-config using a GDAL_CONFIG environment variable or use a GDAL_VERSION environment variable.\n",
      "    ----------------------------------------\n",
      "WARNING: Discarding https://files.pythonhosted.org/packages/3e/5f/0c6704efeea2ff3fba7f54cc6ec38070157f21bc1cffa7bdfa7c9f6b8f7a/Fiona-1.8.1.tar.gz#sha256=4c34bb4c5cd788aaf14e5484c3b7de407b1a8a7c7b2d29bbb2e8b37931e83b8d (from https://pypi.org/simple/fiona/). Command errored out with exit status 1: python setup.py egg_info Check the logs for full command output.\n",
      "    ERROR: Command errored out with exit status 1:\n",
      "     command: 'C:\\Users\\HuiHong\\anaconda3\\python.exe' -c 'import io, os, sys, setuptools, tokenize; sys.argv[0] = '\"'\"'C:\\\\Users\\\\HuiHong\\\\AppData\\\\Local\\\\Temp\\\\pip-install-4un8c0ja\\\\fiona_a987b59675ff47178f41c60d48703f89\\\\setup.py'\"'\"'; __file__='\"'\"'C:\\\\Users\\\\HuiHong\\\\AppData\\\\Local\\\\Temp\\\\pip-install-4un8c0ja\\\\fiona_a987b59675ff47178f41c60d48703f89\\\\setup.py'\"'\"';f = getattr(tokenize, '\"'\"'open'\"'\"', open)(__file__) if os.path.exists(__file__) else io.StringIO('\"'\"'from setuptools import setup; setup()'\"'\"');code = f.read().replace('\"'\"'\\r\\n'\"'\"', '\"'\"'\\n'\"'\"');f.close();exec(compile(code, __file__, '\"'\"'exec'\"'\"'))' egg_info --egg-base 'C:\\Users\\HuiHong\\AppData\\Local\\Temp\\pip-pip-egg-info-z1nb56zs'\n",
      "         cwd: C:\\Users\\HuiHong\\AppData\\Local\\Temp\\pip-install-4un8c0ja\\fiona_a987b59675ff47178f41c60d48703f89\\\n",
      "    Complete output (1 lines):\n",
      "    A GDAL API version must be specified. Provide a path to gdal-config using a GDAL_CONFIG environment variable or use a GDAL_VERSION environment variable.\n",
      "    ----------------------------------------\n",
      "WARNING: Discarding https://files.pythonhosted.org/packages/2a/bd/c1efc2680f338e5941121c776d6323af6b9698ac739e22ba523cee348a7f/Fiona-1.8.0.tar.gz#sha256=20141a9ece06daa7bb4333fba640c2fe39a49f8aca5492d1da8595d41e91844a (from https://pypi.org/simple/fiona/). Command errored out with exit status 1: python setup.py egg_info Check the logs for full command output.\n",
      "  ERROR: Command errored out with exit status 1:\n",
      "   command: 'C:\\Users\\HuiHong\\anaconda3\\python.exe' -u -c 'import io, os, sys, setuptools, tokenize; sys.argv[0] = '\"'\"'C:\\\\Users\\\\HuiHong\\\\AppData\\\\Local\\\\Temp\\\\pip-install-4un8c0ja\\\\fiona_dcd76852a49a4a0799f57a4b7dd16db2\\\\setup.py'\"'\"'; __file__='\"'\"'C:\\\\Users\\\\HuiHong\\\\AppData\\\\Local\\\\Temp\\\\pip-install-4un8c0ja\\\\fiona_dcd76852a49a4a0799f57a4b7dd16db2\\\\setup.py'\"'\"';f = getattr(tokenize, '\"'\"'open'\"'\"', open)(__file__) if os.path.exists(__file__) else io.StringIO('\"'\"'from setuptools import setup; setup()'\"'\"');code = f.read().replace('\"'\"'\\r\\n'\"'\"', '\"'\"'\\n'\"'\"');f.close();exec(compile(code, __file__, '\"'\"'exec'\"'\"'))' bdist_wheel -d 'C:\\Users\\HuiHong\\AppData\\Local\\Temp\\pip-wheel-u4h7shk1'\n",
      "       cwd: C:\\Users\\HuiHong\\AppData\\Local\\Temp\\pip-install-4un8c0ja\\fiona_dcd76852a49a4a0799f57a4b7dd16db2\\\n",
      "  Complete output (42 lines):\n",
      "  C:\\Users\\HuiHong\\anaconda3\\lib\\site-packages\\setuptools\\_distutils\\dist.py:275: UserWarning: Unknown distribution option: 'metadata_version'\n",
      "    warnings.warn(msg)\n",
      "  C:\\Users\\HuiHong\\anaconda3\\lib\\site-packages\\setuptools\\_distutils\\dist.py:275: UserWarning: Unknown distribution option: 'requires_python'\n",
      "    warnings.warn(msg)\n",
      "  C:\\Users\\HuiHong\\anaconda3\\lib\\site-packages\\setuptools\\_distutils\\dist.py:275: UserWarning: Unknown distribution option: 'requires_external'\n",
      "    warnings.warn(msg)\n",
      "  running bdist_wheel\n",
      "  running build\n",
      "  running build_py\n",
      "  creating build\n",
      "  creating build\\lib.win-amd64-3.9\n",
      "  creating build\\lib.win-amd64-3.9\\fiona\n",
      "  copying .\\fiona\\collection.py -> build\\lib.win-amd64-3.9\\fiona\n",
      "  copying .\\fiona\\compat.py -> build\\lib.win-amd64-3.9\\fiona\n",
      "  copying .\\fiona\\crs.py -> build\\lib.win-amd64-3.9\\fiona\n",
      "  copying .\\fiona\\drvsupport.py -> build\\lib.win-amd64-3.9\\fiona\n",
      "  copying .\\fiona\\errors.py -> build\\lib.win-amd64-3.9\\fiona\n",
      "  copying .\\fiona\\inspector.py -> build\\lib.win-amd64-3.9\\fiona\n",
      "  copying .\\fiona\\rfc3339.py -> build\\lib.win-amd64-3.9\\fiona\n",
      "  copying .\\fiona\\tool.py -> build\\lib.win-amd64-3.9\\fiona\n",
      "  copying .\\fiona\\transform.py -> build\\lib.win-amd64-3.9\\fiona\n",
      "  copying .\\fiona\\__init__.py -> build\\lib.win-amd64-3.9\\fiona\n",
      "  creating build\\lib.win-amd64-3.9\\fiona\\fio\n",
      "  copying .\\fiona\\fio\\bounds.py -> build\\lib.win-amd64-3.9\\fiona\\fio\n",
      "  copying .\\fiona\\fio\\calc.py -> build\\lib.win-amd64-3.9\\fiona\\fio\n",
      "  copying .\\fiona\\fio\\cat.py -> build\\lib.win-amd64-3.9\\fiona\\fio\n",
      "  copying .\\fiona\\fio\\collect.py -> build\\lib.win-amd64-3.9\\fiona\\fio\n",
      "  copying .\\fiona\\fio\\distrib.py -> build\\lib.win-amd64-3.9\\fiona\\fio\n",
      "  copying .\\fiona\\fio\\dump.py -> build\\lib.win-amd64-3.9\\fiona\\fio\n",
      "  copying .\\fiona\\fio\\env.py -> build\\lib.win-amd64-3.9\\fiona\\fio\n",
      "  copying .\\fiona\\fio\\filter.py -> build\\lib.win-amd64-3.9\\fiona\\fio\n",
      "  copying .\\fiona\\fio\\helpers.py -> build\\lib.win-amd64-3.9\\fiona\\fio\n",
      "  copying .\\fiona\\fio\\info.py -> build\\lib.win-amd64-3.9\\fiona\\fio\n",
      "  copying .\\fiona\\fio\\insp.py -> build\\lib.win-amd64-3.9\\fiona\\fio\n",
      "  copying .\\fiona\\fio\\load.py -> build\\lib.win-amd64-3.9\\fiona\\fio\n",
      "  copying .\\fiona\\fio\\ls.py -> build\\lib.win-amd64-3.9\\fiona\\fio\n",
      "  copying .\\fiona\\fio\\main.py -> build\\lib.win-amd64-3.9\\fiona\\fio\n",
      "  copying .\\fiona\\fio\\options.py -> build\\lib.win-amd64-3.9\\fiona\\fio\n",
      "  copying .\\fiona\\fio\\__init__.py -> build\\lib.win-amd64-3.9\\fiona\\fio\n",
      "  running build_ext\n",
      "  building 'fiona._transform' extension\n",
      "  error: Microsoft Visual C++ 14.0 or greater is required. Get it with \"Microsoft C++ Build Tools\": https://visualstudio.microsoft.com/visual-cpp-build-tools/\n",
      "  ----------------------------------------\n",
      "  ERROR: Failed building wheel for fiona\n",
      "    ERROR: Command errored out with exit status 1:\n",
      "     command: 'C:\\Users\\HuiHong\\anaconda3\\python.exe' -u -c 'import io, os, sys, setuptools, tokenize; sys.argv[0] = '\"'\"'C:\\\\Users\\\\HuiHong\\\\AppData\\\\Local\\\\Temp\\\\pip-install-4un8c0ja\\\\fiona_dcd76852a49a4a0799f57a4b7dd16db2\\\\setup.py'\"'\"'; __file__='\"'\"'C:\\\\Users\\\\HuiHong\\\\AppData\\\\Local\\\\Temp\\\\pip-install-4un8c0ja\\\\fiona_dcd76852a49a4a0799f57a4b7dd16db2\\\\setup.py'\"'\"';f = getattr(tokenize, '\"'\"'open'\"'\"', open)(__file__) if os.path.exists(__file__) else io.StringIO('\"'\"'from setuptools import setup; setup()'\"'\"');code = f.read().replace('\"'\"'\\r\\n'\"'\"', '\"'\"'\\n'\"'\"');f.close();exec(compile(code, __file__, '\"'\"'exec'\"'\"'))' install --record 'C:\\Users\\HuiHong\\AppData\\Local\\Temp\\pip-record-rws46ytd\\install-record.txt' --single-version-externally-managed --compile --install-headers 'C:\\Users\\HuiHong\\anaconda3\\Include\\fiona'\n",
      "         cwd: C:\\Users\\HuiHong\\AppData\\Local\\Temp\\pip-install-4un8c0ja\\fiona_dcd76852a49a4a0799f57a4b7dd16db2\\\n",
      "    Complete output (14 lines):\n",
      "    C:\\Users\\HuiHong\\anaconda3\\lib\\site-packages\\setuptools\\_distutils\\dist.py:275: UserWarning: Unknown distribution option: 'metadata_version'\n",
      "      warnings.warn(msg)\n",
      "    C:\\Users\\HuiHong\\anaconda3\\lib\\site-packages\\setuptools\\_distutils\\dist.py:275: UserWarning: Unknown distribution option: 'requires_python'\n",
      "      warnings.warn(msg)\n",
      "    C:\\Users\\HuiHong\\anaconda3\\lib\\site-packages\\setuptools\\_distutils\\dist.py:275: UserWarning: Unknown distribution option: 'requires_external'\n",
      "      warnings.warn(msg)\n",
      "    running install\n",
      "    C:\\Users\\HuiHong\\anaconda3\\lib\\site-packages\\setuptools\\command\\install.py:34: SetuptoolsDeprecationWarning: setup.py install is deprecated. Use build and pip and other standards-based tools.\n",
      "      warnings.warn(\n",
      "    running build\n",
      "    running build_py\n",
      "    running build_ext\n",
      "    building 'fiona._transform' extension\n",
      "    error: Microsoft Visual C++ 14.0 or greater is required. Get it with \"Microsoft C++ Build Tools\": https://visualstudio.microsoft.com/visual-cpp-build-tools/\n",
      "    ----------------------------------------\n",
      "ERROR: Command errored out with exit status 1: 'C:\\Users\\HuiHong\\anaconda3\\python.exe' -u -c 'import io, os, sys, setuptools, tokenize; sys.argv[0] = '\"'\"'C:\\\\Users\\\\HuiHong\\\\AppData\\\\Local\\\\Temp\\\\pip-install-4un8c0ja\\\\fiona_dcd76852a49a4a0799f57a4b7dd16db2\\\\setup.py'\"'\"'; __file__='\"'\"'C:\\\\Users\\\\HuiHong\\\\AppData\\\\Local\\\\Temp\\\\pip-install-4un8c0ja\\\\fiona_dcd76852a49a4a0799f57a4b7dd16db2\\\\setup.py'\"'\"';f = getattr(tokenize, '\"'\"'open'\"'\"', open)(__file__) if os.path.exists(__file__) else io.StringIO('\"'\"'from setuptools import setup; setup()'\"'\"');code = f.read().replace('\"'\"'\\r\\n'\"'\"', '\"'\"'\\n'\"'\"');f.close();exec(compile(code, __file__, '\"'\"'exec'\"'\"'))' install --record 'C:\\Users\\HuiHong\\AppData\\Local\\Temp\\pip-record-rws46ytd\\install-record.txt' --single-version-externally-managed --compile --install-headers 'C:\\Users\\HuiHong\\anaconda3\\Include\\fiona' Check the logs for full command output.\n"
     ]
    },
    {
     "ename": "ModuleNotFoundError",
     "evalue": "No module named 'geopandas'",
     "output_type": "error",
     "traceback": [
      "\u001b[1;31m---------------------------------------------------------------------------\u001b[0m",
      "\u001b[1;31mModuleNotFoundError\u001b[0m                       Traceback (most recent call last)",
      "\u001b[1;32m~\\AppData\\Local\\Temp/ipykernel_27144/3707231998.py\u001b[0m in \u001b[0;36m<module>\u001b[1;34m\u001b[0m\n\u001b[0;32m      5\u001b[0m \u001b[1;32mimport\u001b[0m \u001b[0mscipy\u001b[0m\u001b[1;33m.\u001b[0m\u001b[0mstats\u001b[0m \u001b[1;32mas\u001b[0m \u001b[0mst\u001b[0m\u001b[1;33m\u001b[0m\u001b[1;33m\u001b[0m\u001b[0m\n\u001b[0;32m      6\u001b[0m \u001b[0mget_ipython\u001b[0m\u001b[1;33m(\u001b[0m\u001b[1;33m)\u001b[0m\u001b[1;33m.\u001b[0m\u001b[0msystem\u001b[0m\u001b[1;33m(\u001b[0m\u001b[1;34m'pip install geopandas'\u001b[0m\u001b[1;33m)\u001b[0m\u001b[1;33m\u001b[0m\u001b[1;33m\u001b[0m\u001b[0m\n\u001b[1;32m----> 7\u001b[1;33m \u001b[1;32mimport\u001b[0m \u001b[0mgeopandas\u001b[0m \u001b[1;32mas\u001b[0m \u001b[0mgpd\u001b[0m\u001b[1;33m\u001b[0m\u001b[1;33m\u001b[0m\u001b[0m\n\u001b[0m\u001b[0;32m      8\u001b[0m \u001b[1;33m\u001b[0m\u001b[0m\n",
      "\u001b[1;31mModuleNotFoundError\u001b[0m: No module named 'geopandas'"
     ]
    }
   ],
   "source": [
    "#Libraries\n",
    "import pandas as pd\n",
    "import numpy as np\n",
    "import matplotlib.pyplot as plt\n",
    "import scipy.stats as st\n",
    "import geopandas as gpd"
   ]
  },
  {
   "cell_type": "markdown",
   "metadata": {},
   "source": [
    "## Question 1 (Prediction)\n",
    "---\n",
    "Download the passing rate of annual vehicle inspection records from \n",
    "https://data.gov.sg/dataset/annual-motor-vehicle-inspection-passing-rate-of-motor-vehicles-on- first-inspection, and focus on inspections for motorcycles. "
   ]
  },
  {
   "cell_type": "code",
   "execution_count": 5,
   "metadata": {},
   "outputs": [
    {
     "data": {
      "text/plain": [
       "year               0\n",
       "type               0\n",
       "age                0\n",
       "number_reported    0\n",
       "number_passed      0\n",
       "passing_rate       0\n",
       "dtype: int64"
      ]
     },
     "execution_count": 5,
     "metadata": {},
     "output_type": "execute_result"
    }
   ],
   "source": [
    "#Import dataset\n",
    "motor_df = pd.read_csv(\"annual-motor-vehicle-inspection-passing-rate-of-motor-vehicles-on-first-inspection.csv\")\n",
    "motor_df.isna().sum()"
   ]
  },
  {
   "cell_type": "markdown",
   "metadata": {},
   "source": [
    "### Task 1: \n",
    "What's the average passing rate on first inspection each year, taking into account motorcycles of all age groups?"
   ]
  },
  {
   "cell_type": "code",
   "execution_count": 10,
   "metadata": {},
   "outputs": [
    {
     "data": {
      "text/plain": [
       "year\n",
       "2006    92.990909\n",
       "2007    93.686925\n",
       "2008    93.870527\n",
       "2009    93.873521\n",
       "2010    93.981256\n",
       "2011    94.045351\n",
       "2012    92.791833\n",
       "2013    89.050335\n",
       "2014    83.116493\n",
       "2015    86.459294\n",
       "2016    87.506665\n",
       "2017    87.604945\n",
       "Name: passing_rate, dtype: float64"
      ]
     },
     "execution_count": 10,
     "metadata": {},
     "output_type": "execute_result"
    }
   ],
   "source": [
    "#Find average for each year\n",
    "motor_df[motor_df.type.eq('Motorcycles')].groupby('year').passing_rate.mean()"
   ]
  },
  {
   "cell_type": "markdown",
   "metadata": {},
   "source": [
    "### Task 2: \n",
    "For motorcycles of each age, estimate their passing rate next year."
   ]
  },
  {
   "cell_type": "code",
   "execution_count": 17,
   "metadata": {},
   "outputs": [
    {
     "data": {
      "text/plain": [
       "age\n",
       "1      63.456783\n",
       "10     93.650926\n",
       "2      93.747265\n",
       "3      93.277411\n",
       "4      93.699475\n",
       "5      93.586574\n",
       "6      93.564131\n",
       "7      93.522407\n",
       "8      93.458418\n",
       "9      93.599726\n",
       ">10    92.666765\n",
       "Name: passing_rate, dtype: float64"
      ]
     },
     "execution_count": 17,
     "metadata": {},
     "output_type": "execute_result"
    }
   ],
   "source": [
    "#Finding estimates via mean across all years\n",
    "motor_df[motor_df.type.eq('Motorcycles')].groupby('age').passing_rate.mean()"
   ]
  },
  {
   "cell_type": "markdown",
   "metadata": {},
   "source": [
    "### Task 3: \n",
    "Assuming your estimated rates are true, can you suggest a sensible range of possible passing ranges for motorcycles in the 5-year age group next year (2017), with at least 95% possibility of including the actual passing rate? If you can come up with multiple ranges that meet this criteria, use the one with the narrowest range. You may assume the number of motorcycles is the same as the number in the 4-year age group in the previous year"
   ]
  },
  {
   "cell_type": "code",
   "execution_count": 26,
   "metadata": {},
   "outputs": [
    {
     "data": {
      "text/html": [
       "<div>\n",
       "<style scoped>\n",
       "    .dataframe tbody tr th:only-of-type {\n",
       "        vertical-align: middle;\n",
       "    }\n",
       "\n",
       "    .dataframe tbody tr th {\n",
       "        vertical-align: top;\n",
       "    }\n",
       "\n",
       "    .dataframe thead th {\n",
       "        text-align: right;\n",
       "    }\n",
       "</style>\n",
       "<table border=\"1\" class=\"dataframe\">\n",
       "  <thead>\n",
       "    <tr style=\"text-align: right;\">\n",
       "      <th></th>\n",
       "      <th>year</th>\n",
       "      <th>type</th>\n",
       "      <th>age</th>\n",
       "      <th>number_reported</th>\n",
       "      <th>number_passed</th>\n",
       "      <th>passing_rate</th>\n",
       "    </tr>\n",
       "  </thead>\n",
       "  <tbody>\n",
       "    <tr>\n",
       "      <th>741</th>\n",
       "      <td>2017</td>\n",
       "      <td>Motorcycles</td>\n",
       "      <td>5</td>\n",
       "      <td>8048</td>\n",
       "      <td>7743</td>\n",
       "      <td>96.210239</td>\n",
       "    </tr>\n",
       "  </tbody>\n",
       "</table>\n",
       "</div>"
      ],
      "text/plain": [
       "     year         type age  number_reported  number_passed  passing_rate\n",
       "741  2017  Motorcycles   5             8048           7743     96.210239"
      ]
     },
     "execution_count": 26,
     "metadata": {},
     "output_type": "execute_result"
    }
   ],
   "source": [
    "motor_df[motor_df.type.eq('Motorcycles') & motor_df.age.eq('5') & motor_df.year.eq(2017)]"
   ]
  },
  {
   "cell_type": "code",
   "execution_count": 27,
   "metadata": {},
   "outputs": [
    {
     "data": {
      "text/plain": [
       "(92.17143859428154, 95.00171006071847)"
      ]
     },
     "execution_count": 27,
     "metadata": {},
     "output_type": "execute_result"
    }
   ],
   "source": [
    "motor_df_2017 = motor_df[motor_df.type.eq('Motorcycles') & motor_df.age.eq('5')]\n",
    "st.t.interval(alpha=0.95, df=len(motor_df_2017['passing_rate'])-1, loc=np.mean(motor_df_2017['passing_rate']), scale=st.sem(motor_df_2017['passing_rate']))"
   ]
  },
  {
   "cell_type": "markdown",
   "metadata": {},
   "source": [
    "## Question 2 (Association)\n",
    "---\n",
    "Download the list of transactions by each property agent from https://data.gov.sg/dataset/cea-salesperson-residential-transaction-record, and focus on HDB resale flat transactions where a property agent represented the seller."
   ]
  },
  {
   "cell_type": "code",
   "execution_count": 60,
   "metadata": {},
   "outputs": [],
   "source": [
    "#Import dataset\n",
    "agent_df = pd.read_csv(\"cea-salespersons-property-transaction-records-residential.csv\", dtype={'district': str})\n",
    "agent_df.replace('-', np.nan, inplace=True)"
   ]
  },
  {
   "cell_type": "markdown",
   "metadata": {},
   "source": [
    "### Task 1: \n",
    "Based on the dataset, how many sales would you expect an agent to close each year? How \n",
    "much variation is there among agents?"
   ]
  },
  {
   "cell_type": "code",
   "execution_count": 64,
   "metadata": {},
   "outputs": [
    {
     "data": {
      "text/plain": [
       "1.2800717737098548"
      ]
     },
     "execution_count": 64,
     "metadata": {},
     "output_type": "execute_result"
    }
   ],
   "source": [
    "#Find mean transaction each year\n",
    "agent_df['transaction_year']= agent_df.transaction_date.str[-4:]\n",
    "mean_per_agent = agent_df.groupby(['salesperson_name']).salesperson_name.count()/len(agent_df.transaction_year.unique())\n",
    "overall_mean_transaction = mean_per_agent.mean()\n",
    "overall_mean_transaction"
   ]
  },
  {
   "cell_type": "code",
   "execution_count": 67,
   "metadata": {},
   "outputs": [
    {
     "data": {
      "text/plain": [
       "6.039704725540728"
      ]
     },
     "execution_count": 67,
     "metadata": {},
     "output_type": "execute_result"
    }
   ],
   "source": [
    "#Find variance among agents\n",
    "mean_per_agent.var()"
   ]
  },
  {
   "cell_type": "markdown",
   "metadata": {},
   "source": [
    "### Task 2: \n",
    "Examine the distribution for number of sales closed by an agent in a year & suggest a \n",
    "probability distribution that may be suitable for modelling this set of values. What are some ways in which your suggested distribution is appropriate? What are some of its limitations?"
   ]
  },
  {
   "cell_type": "code",
   "execution_count": 74,
   "metadata": {},
   "outputs": [
    {
     "name": "stderr",
     "output_type": "stream",
     "text": [
      "c:\\Users\\HuiHong\\anaconda3\\lib\\site-packages\\seaborn\\distributions.py:2619: FutureWarning: `distplot` is a deprecated function and will be removed in a future version. Please adapt your code to use either `displot` (a figure-level function with similar flexibility) or `histplot` (an axes-level function for histograms).\n",
      "  warnings.warn(msg, FutureWarning)\n"
     ]
    },
    {
     "data": {
      "image/png": "[encoded data removed]",
      "text/plain": [
       "<Figure size 432x288 with 1 Axes>"
      ]
     },
     "metadata": {
      "needs_background": "light"
     },
     "output_type": "display_data"
    }
   ],
   "source": [
    "import seaborn as sns\n",
    "fig, ax = plt.subplots()\n",
    "sns.distplot(mean_per_agent, color=\"g\", ax=ax)\n",
    "plt.show()"
   ]
  },
  {
   "cell_type": "code",
   "execution_count": 72,
   "metadata": {},
   "outputs": [
    {
     "name": "stdout",
     "output_type": "stream",
     "text": [
      "p value for norm = 0.0\n",
      "p value for exponweib = 0.0\n",
      "p value for weibull_max = 0.0\n",
      "p value for weibull_min = 0.0\n"
     ]
    },
    {
     "name": "stderr",
     "output_type": "stream",
     "text": [
      "c:\\Users\\HuiHong\\anaconda3\\lib\\site-packages\\scipy\\stats\\_distn_infrastructure.py:2606: RuntimeWarning: invalid value encountered in double_scalars\n",
      "  Lhat = muhat - Shat*mu\n"
     ]
    },
    {
     "name": "stdout",
     "output_type": "stream",
     "text": [
      "p value for pareto = 0.0\n",
      "p value for genextreme = 0.0\n",
      "Best fitting distribution: norm\n",
      "Best p value: 0.0\n",
      "Parameters for the best fit: (1.280071773710013, 2.4575458588319274)\n"
     ]
    },
    {
     "data": {
      "text/plain": [
       "('norm', 0.0, (1.280071773710013, 2.4575458588319274))"
      ]
     },
     "execution_count": 72,
     "metadata": {},
     "output_type": "execute_result"
    }
   ],
   "source": [
    "def get_best_distribution(data):\n",
    "    dist_names = [\"norm\", \"exponweib\", \"weibull_max\", \"weibull_min\", \"pareto\", \"genextreme\"]\n",
    "    dist_results = []\n",
    "    params = {}\n",
    "    for dist_name in dist_names:\n",
    "        dist = getattr(st, dist_name)\n",
    "        param = dist.fit(data)\n",
    "\n",
    "        params[dist_name] = param\n",
    "        # Applying the Kolmogorov-Smirnov test\n",
    "        D, p = st.kstest(data, dist_name, args=param)\n",
    "        print(\"p value for \"+dist_name+\" = \"+str(p))\n",
    "        dist_results.append((dist_name, p))\n",
    "\n",
    "    # select the best fitted distribution\n",
    "    best_dist, best_p = (max(dist_results, key=lambda item: item[1]))\n",
    "    # store the name of the best fit and its p value\n",
    "\n",
    "    print(\"Best fitting distribution: \"+str(best_dist))\n",
    "    print(\"Best p value: \"+ str(best_p))\n",
    "    print(\"Parameters for the best fit: \"+ str(params[best_dist]))\n",
    "\n",
    "    return best_dist, best_p, params[best_dist]\n",
    "\n",
    "get_best_distribution(np.array(mean_per_agent))"
   ]
  },
  {
   "cell_type": "markdown",
   "metadata": {},
   "source": [
    "### Task 3:\n",
    "Property agents tend to specialise in one or more specific geographical areas, rather than ply \n",
    "their trade equally island-wide. Given a property agent who has closed sales in Sembawang and \n",
    "Yishun during a given year, which other town is he/she most likely to be active in that year? <br/>\n",
    "(Note: you may wish to use association rules for this task.)"
   ]
  },
  {
   "cell_type": "code",
   "execution_count": 129,
   "metadata": {},
   "outputs": [
    {
     "data": {
      "text/plain": [
       "SENGKANG           1475\n",
       "WOODLANDS          1471\n",
       "PUNGGOL            1344\n",
       "JURONG WEST        1279\n",
       "ANG MO KIO         1269\n",
       "HOUGANG            1246\n",
       "TAMPINES           1219\n",
       "CHOA CHU KANG      1156\n",
       "BEDOK              1132\n",
       "BUKIT PANJANG      1019\n",
       "BUKIT BATOK         998\n",
       "BUKIT MERAH         992\n",
       "TOA PAYOH           986\n",
       "PASIR RIS           884\n",
       "KALLANG/WHAMPOA     878\n",
       "CLEMENTI            830\n",
       "QUEENSTOWN          810\n",
       "JURONG EAST         810\n",
       "GEYLANG             785\n",
       "SERANGOON           728\n",
       "BISHAN              712\n",
       "CENTRAL AREA        364\n",
       "MARINE PARADE       262\n",
       "BUKIT TIMAH          75\n",
       "dtype: int64"
      ]
     },
     "execution_count": 129,
     "metadata": {},
     "output_type": "execute_result"
    }
   ],
   "source": [
    "#Group all towns each agent visited in a year into lists\n",
    "temp = agent_df.dropna(subset=['town']).groupby(['salesperson_name', ]).town.apply(list)\n",
    "\n",
    "#Remove duplicated towns\n",
    "temp = list(temp.apply(lambda x: list(set(x))))\n",
    "\n",
    "#Find areas most assocaited to YISHUN and SEMBAWANG\n",
    "overall_items = []\n",
    "for group in temp:\n",
    "    if 'YISHUN' in group and 'SEMBAWANG' in group:\n",
    "        associated_items = set(group) - {'YISHUN', 'SEMBAWANG'}\n",
    "        overall_items += list(associated_items)\n",
    "pd.Series(overall_items).value_counts() #most associated town is SengKang\n",
    "\n"
   ]
  },
  {
   "cell_type": "markdown",
   "metadata": {},
   "source": [
    "## Question 3 (Classification)\n",
    "---\n",
    "Download the Wireless@SG hotspots file from https://data.gov.sg/dataset/wireless-hotspots (in \n",
    "either KML or geoJSON format), and extract the data associated with it. You should obtain a table with over 1600 rows and several columns, where each row corresponding to a different WiFi hotspot in Singapore."
   ]
  },
  {
   "cell_type": "code",
   "execution_count": null,
   "metadata": {},
   "outputs": [],
   "source": [
    "#Import dataset\n",
    "wifi_df = gpd.read_file(\"wireless-hotspots-geojson.geojson\")\n",
    "wifi_df"
   ]
  },
  {
   "cell_type": "markdown",
   "metadata": {},
   "source": [
    "### Task 1: \n",
    "From the table, what are some of the information you can deduce for each hotspot? "
   ]
  },
  {
   "cell_type": "code",
   "execution_count": null,
   "metadata": {},
   "outputs": [],
   "source": []
  },
  {
   "cell_type": "markdown",
   "metadata": {},
   "source": [
    "### Task 2:\n",
    "Due to a system error, the location type column for the last 200 rows of the dataset has \n",
    "become garbled. Using all earlier rows as well as all other columns in the dataset, build a \n",
    "classification model to predict the location type for these hotspots. You may treat the three rarest location types as one category. <br/>\n",
    "(Note: you may wish to create some additional features based on available ones.)"
   ]
  },
  {
   "cell_type": "code",
   "execution_count": null,
   "metadata": {},
   "outputs": [],
   "source": []
  },
  {
   "cell_type": "markdown",
   "metadata": {},
   "source": [
    "### Task 3: \n",
    "The information has now been recovered from a backup copy of the file. Compared to the true location types, how good was your model? Be prepared to explain the metrics you use to evaluate your model."
   ]
  },
  {
   "cell_type": "code",
   "execution_count": null,
   "metadata": {},
   "outputs": [],
   "source": []
  },
  {
   "cell_type": "markdown",
   "metadata": {},
   "source": [
    "## Question 4 (Data Visualization)\n",
    "---\n",
    "A colleague is working with a salary dataset based on recent poly graduates in a specific course of study highly subsidised by the government, to compare whether the career choices made by students from Group X are different from those from Group Y in any manner. She has already produced the following summary table and listed out the main insight she wishes to highlight, as well as pertinent observations on the dataset’s characteristics, but is struggling to come up with a good way to communicate the insight to her audience in one visualisation while also accurately reflecting the dataset’s characteristics. \n",
    "\n",
    "### Main insight: \n",
    "It may be worth reviewing the policy behind subsidising this course of study, as a considerable proportion of students from each group do not go on to work in industries closely related to it. For Group X, this may be partially due to higher / comparable salaries offered by other industries. For Group Y, non-salary factors may play a more prominent role. \n",
    "\n",
    "### Data characteristics: \n",
    "1.  There are considerably more students from Group X than Group Y in this course of study. \n",
    "2.  Proportionately more students from Group Y are in jobs unrelated to their course of study. \n",
    "3.  The distribution of students among various industries is considerably different between the two student groups. \n",
    "4.  Students from Group X tend to command higher salaries, for the same type of job & industry. \n",
    "5.  The salary differential between the two student groups differs by job nature and industry.\n"
   ]
  },
  {
   "cell_type": "markdown",
   "metadata": {},
   "source": [
    "### Task: \n",
    "Help your colleague present the insight in an intuitive manner that is easily understood by a \n",
    "non-technical audience, and that reflects as many characteristics in the list as possible. Be prepared to justify any and every aspect of your visualisation (e.g. chart choice, colour palette, labels, orientation, etc.)"
   ]
  },
  {
   "cell_type": "code",
   "execution_count": null,
   "metadata": {},
   "outputs": [],
   "source": [
    "#Visualization\n",
    "\n"
   ]
  }
 ],
 "metadata": {
  "kernelspec": {
   "display_name": "Python 3.9.7 ('base')",
   "language": "python",
   "name": "python3"
  },
  "language_info": {
   "codemirror_mode": {
    "name": "ipython",
    "version": 3
   },
   "file_extension": ".py",
   "mimetype": "text/x-python",
   "name": "python",
   "nbconvert_exporter": "python",
   "pygments_lexer": "ipython3",
   "version": "3.9.7"
  },
  "orig_nbformat": 4,
  "vscode": {
   "interpreter": {
    "hash": "4a7c6d69fb3a3f26e6f63a114093cfe707b814febc8ad073a129e5428b5fee5f"
   }
  }
 },
 "nbformat": 4,
 "nbformat_minor": 2
}
