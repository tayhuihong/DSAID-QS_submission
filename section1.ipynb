{
 "cells": [
  {
   "cell_type": "markdown",
   "metadata": {},
   "source": [
    "# Section 1\n",
    "A deck of slides for each section, preferably in *.pptx or &.pdf form"
   ]
  },
  {
   "cell_type": "markdown",
   "metadata": {},
   "source": [
    "### Import libraries and dataset\n",
    "---"
   ]
  },
  {
   "cell_type": "code",
   "execution_count": 289,
   "metadata": {},
   "outputs": [],
   "source": [
    "#Libraries\n",
    "import pandas as pd\n",
    "import numpy as np\n",
    "import matplotlib.pyplot as plt\n",
    "import scipy.stats as st\n",
    "#!pip install geopandas\n",
    "import geopandas as gpd\n",
    "import seaborn as sns\n",
    "from sklearn.model_selection import train_test_split\n",
    "from sklearn.ensemble import RandomForestClassifier\n",
    "from sklearn.linear_model import LogisticRegression\n",
    "from sklearn.metrics import confusion_matrix, ConfusionMatrixDisplay"
   ]
  },
  {
   "cell_type": "markdown",
   "metadata": {},
   "source": [
    "## Question 1 (Prediction)\n",
    "---\n",
    "Download the passing rate of annual vehicle inspection records from \n",
    "https://data.gov.sg/dataset/annual-motor-vehicle-inspection-passing-rate-of-motor-vehicles-on- first-inspection, and focus on inspections for motorcycles. "
   ]
  },
  {
   "cell_type": "code",
   "execution_count": 5,
   "metadata": {},
   "outputs": [
    {
     "data": {
      "text/plain": [
       "year               0\n",
       "type               0\n",
       "age                0\n",
       "number_reported    0\n",
       "number_passed      0\n",
       "passing_rate       0\n",
       "dtype: int64"
      ]
     },
     "execution_count": 5,
     "metadata": {},
     "output_type": "execute_result"
    }
   ],
   "source": [
    "#Import dataset\n",
    "motor_df = pd.read_csv(\"annual-motor-vehicle-inspection-passing-rate-of-motor-vehicles-on-first-inspection.csv\")\n",
    "motor_df.isna().sum()"
   ]
  },
  {
   "cell_type": "markdown",
   "metadata": {},
   "source": [
    "### Task 1: \n",
    "What's the average passing rate on first inspection each year, taking into account motorcycles of all age groups?"
   ]
  },
  {
   "cell_type": "code",
   "execution_count": 10,
   "metadata": {},
   "outputs": [
    {
     "data": {
      "text/plain": [
       "year\n",
       "2006    92.990909\n",
       "2007    93.686925\n",
       "2008    93.870527\n",
       "2009    93.873521\n",
       "2010    93.981256\n",
       "2011    94.045351\n",
       "2012    92.791833\n",
       "2013    89.050335\n",
       "2014    83.116493\n",
       "2015    86.459294\n",
       "2016    87.506665\n",
       "2017    87.604945\n",
       "Name: passing_rate, dtype: float64"
      ]
     },
     "execution_count": 10,
     "metadata": {},
     "output_type": "execute_result"
    }
   ],
   "source": [
    "#Find average for each year\n",
    "motor_df[motor_df.type.eq('Motorcycles')].groupby('year').passing_rate.mean()"
   ]
  },
  {
   "cell_type": "markdown",
   "metadata": {},
   "source": [
    "### Task 2: \n",
    "For motorcycles of each age, estimate their passing rate next year."
   ]
  },
  {
   "cell_type": "code",
   "execution_count": 17,
   "metadata": {},
   "outputs": [
    {
     "data": {
      "text/plain": [
       "age\n",
       "1      63.456783\n",
       "10     93.650926\n",
       "2      93.747265\n",
       "3      93.277411\n",
       "4      93.699475\n",
       "5      93.586574\n",
       "6      93.564131\n",
       "7      93.522407\n",
       "8      93.458418\n",
       "9      93.599726\n",
       ">10    92.666765\n",
       "Name: passing_rate, dtype: float64"
      ]
     },
     "execution_count": 17,
     "metadata": {},
     "output_type": "execute_result"
    }
   ],
   "source": [
    "#Finding estimates via mean across all years\n",
    "motor_df[motor_df.type.eq('Motorcycles')].groupby('age').passing_rate.mean()"
   ]
  },
  {
   "cell_type": "markdown",
   "metadata": {},
   "source": [
    "### Task 3: \n",
    "Assuming your estimated rates are true, can you suggest a sensible range of possible passing ranges for motorcycles in the 5-year age group next year (2017), with at least 95% possibility of including the actual passing rate? If you can come up with multiple ranges that meet this criteria, use the one with the narrowest range. You may assume the number of motorcycles is the same as the number in the 4-year age group in the previous year"
   ]
  },
  {
   "cell_type": "code",
   "execution_count": 27,
   "metadata": {},
   "outputs": [
    {
     "data": {
      "text/plain": [
       "(92.17143859428154, 95.00171006071847)"
      ]
     },
     "execution_count": 27,
     "metadata": {},
     "output_type": "execute_result"
    }
   ],
   "source": [
    "motor_df_2017 = motor_df[motor_df.type.eq('Motorcycles') & motor_df.age.eq('5')]\n",
    "st.t.interval(alpha=0.95, df=len(motor_df_2017['passing_rate'])-1, loc=np.mean(motor_df_2017['passing_rate']), scale=st.sem(motor_df_2017['passing_rate']))"
   ]
  },
  {
   "cell_type": "markdown",
   "metadata": {},
   "source": [
    "## Question 2 (Association)\n",
    "---\n",
    "Download the list of transactions by each property agent from https://data.gov.sg/dataset/cea-salesperson-residential-transaction-record, and focus on HDB resale flat transactions where a property agent represented the seller."
   ]
  },
  {
   "cell_type": "code",
   "execution_count": 150,
   "metadata": {},
   "outputs": [],
   "source": [
    "#Import dataset\n",
    "agent_df = pd.read_csv(\"cea-salespersons-property-transaction-records-residential.csv\", dtype={'district': str})\n",
    "agent_df.replace('-', np.nan, inplace=True)"
   ]
  },
  {
   "cell_type": "markdown",
   "metadata": {},
   "source": [
    "### Task 1: \n",
    "Based on the dataset, how many sales would you expect an agent to close each year? How \n",
    "much variation is there among agents?"
   ]
  },
  {
   "cell_type": "code",
   "execution_count": 162,
   "metadata": {},
   "outputs": [
    {
     "data": {
      "text/plain": [
       "1.2823290304376962"
      ]
     },
     "execution_count": 162,
     "metadata": {},
     "output_type": "execute_result"
    }
   ],
   "source": [
    "#Assume rows with blank salesperson_name are still legitimate transactions\n",
    "agent_df['transaction_year']= agent_df.transaction_date.str[-4:]\n",
    "year_count = len(agent_df.transaction_year.dropna().unique())\n",
    "agent_count = len(agent_df.salesperson_name.dropna().unique())\n",
    "mean_sales_count = (agent_df.shape[0]/year_count)/agent_count\n",
    "mean_sales_count"
   ]
  },
  {
   "cell_type": "code",
   "execution_count": 67,
   "metadata": {},
   "outputs": [
    {
     "data": {
      "text/plain": [
       "6.039704725540728"
      ]
     },
     "execution_count": 67,
     "metadata": {},
     "output_type": "execute_result"
    }
   ],
   "source": [
    "#Find variance among agents\n",
    "mean_per_agent = agent_df.groupby(['salesperson_name']).salesperson_name.count()/len(agent_df.transaction_year.unique())\n",
    "mean_per_agent.var()"
   ]
  },
  {
   "cell_type": "markdown",
   "metadata": {},
   "source": [
    "### Task 2: \n",
    "Examine the distribution for number of sales closed by an agent in a year & suggest a \n",
    "probability distribution that may be suitable for modelling this set of values. What are some ways in which your suggested distribution is appropriate? What are some of its limitations?"
   ]
  },
  {
   "cell_type": "code",
   "execution_count": 74,
   "metadata": {},
   "outputs": [
    {
     "name": "stderr",
     "output_type": "stream",
     "text": [
      "c:\\Users\\HuiHong\\anaconda3\\lib\\site-packages\\seaborn\\distributions.py:2619: FutureWarning: `distplot` is a deprecated function and will be removed in a future version. Please adapt your code to use either `displot` (a figure-level function with similar flexibility) or `histplot` (an axes-level function for histograms).\n",
      "  warnings.warn(msg, FutureWarning)\n"
     ]
    },
    {
     "data": {
      "image/png": "[encoded data removed]",
      "text/plain": [
       "<Figure size 432x288 with 1 Axes>"
      ]
     },
     "metadata": {
      "needs_background": "light"
     },
     "output_type": "display_data"
    }
   ],
   "source": [
    "#Suggested probability distribution is exponential distribution\n",
    "fig, ax = plt.subplots()\n",
    "sns.distplot(mean_per_agent, color=\"g\", ax=ax)\n",
    "plt.show()"
   ]
  },
  {
   "cell_type": "markdown",
   "metadata": {},
   "source": [
    "### Task 3:\n",
    "Property agents tend to specialise in one or more specific geographical areas, rather than ply \n",
    "their trade equally island-wide. Given a property agent who has closed sales in Sembawang and \n",
    "Yishun during a given year, which other town is he/she most likely to be active in that year? <br/>\n",
    "(Note: you may wish to use association rules for this task.)"
   ]
  },
  {
   "cell_type": "code",
   "execution_count": 135,
   "metadata": {},
   "outputs": [
    {
     "data": {
      "text/plain": [
       "SENGKANG    1475\n",
       "dtype: int64"
      ]
     },
     "execution_count": 135,
     "metadata": {},
     "output_type": "execute_result"
    }
   ],
   "source": [
    "#Group all towns each agent visited in a year into lists\n",
    "temp = agent_df.dropna(subset=['town']).groupby(['salesperson_name', ]).town.apply(list)\n",
    "\n",
    "#Remove duplicated towns\n",
    "temp = list(temp.apply(lambda x: list(set(x))))\n",
    "\n",
    "#Find areas most assocaited to YISHUN and SEMBAWANG\n",
    "overall_items = []\n",
    "for group in temp:\n",
    "    if 'YISHUN' in group and 'SEMBAWANG' in group:\n",
    "        associated_items = set(group) - {'YISHUN', 'SEMBAWANG'}\n",
    "        overall_items += list(associated_items)\n",
    "pd.Series(overall_items).value_counts().head(1) #most associated town is SengKang"
   ]
  },
  {
   "cell_type": "markdown",
   "metadata": {},
   "source": [
    "## Question 3 (Classification)\n",
    "---\n",
    "Download the Wireless@SG hotspots file from https://data.gov.sg/dataset/wireless-hotspots (in \n",
    "either KML or geoJSON format), and extract the data associated with it. You should obtain a table with over 1600 rows and several columns, where each row corresponding to a different WiFi hotspot in Singapore."
   ]
  },
  {
   "cell_type": "code",
   "execution_count": 348,
   "metadata": {},
   "outputs": [],
   "source": [
    "#Import dataset \n",
    "data = gpd.read_file('wireless-hotspots-geojson.geojson')\n",
    "df_list = []\n",
    "\n",
    "def get_df(df_list, value):\n",
    "    temp = pd.read_html(str(value))\n",
    "    temp_df = pd.DataFrame(temp[0]).set_index('Attributes').T.reset_index(drop=True)\n",
    "    df_list.append(temp_df)\n",
    "\n",
    "#Get data from Description column and then concat all data into df\n",
    "data.Description.apply(lambda x: get_df(df_list,x))\n",
    "wifi_df = pd.concat(df_list, axis=0).reset_index(drop=True)\n",
    "wifi_df.columns.name = None #remove column index label"
   ]
  },
  {
   "cell_type": "markdown",
   "metadata": {},
   "source": [
    "### Task 1: \n",
    "From the table, what are some of the information you can deduce for each hotspot? "
   ]
  },
  {
   "cell_type": "code",
   "execution_count": 349,
   "metadata": {},
   "outputs": [
    {
     "data": {
      "text/html": [
       "<div>\n",
       "<style scoped>\n",
       "    .dataframe tbody tr th:only-of-type {\n",
       "        vertical-align: middle;\n",
       "    }\n",
       "\n",
       "    .dataframe tbody tr th {\n",
       "        vertical-align: top;\n",
       "    }\n",
       "\n",
       "    .dataframe thead th {\n",
       "        text-align: right;\n",
       "    }\n",
       "</style>\n",
       "<table border=\"1\" class=\"dataframe\">\n",
       "  <thead>\n",
       "    <tr style=\"text-align: right;\">\n",
       "      <th></th>\n",
       "      <th>Y</th>\n",
       "      <th>X</th>\n",
       "      <th>LOCATION_NAME</th>\n",
       "      <th>LOCATION_TYPE</th>\n",
       "      <th>POSTAL_CODE</th>\n",
       "      <th>STREET_ADDRESS</th>\n",
       "      <th>OPERATOR_NAME</th>\n",
       "      <th>INC_CRC</th>\n",
       "      <th>FMEL_UPD_D</th>\n",
       "    </tr>\n",
       "  </thead>\n",
       "  <tbody>\n",
       "    <tr>\n",
       "      <th>0</th>\n",
       "      <td>36922.92412</td>\n",
       "      <td>18450.95232</td>\n",
       "      <td>Bukit Batok CC</td>\n",
       "      <td>Community</td>\n",
       "      <td>659959</td>\n",
       "      <td>21 Bukit Batok Central</td>\n",
       "      <td>M1</td>\n",
       "      <td>9BB55356462956EF</td>\n",
       "      <td>20200318162531</td>\n",
       "    </tr>\n",
       "    <tr>\n",
       "      <th>1</th>\n",
       "      <td>45530.46595</td>\n",
       "      <td>28308.65184</td>\n",
       "      <td>1 Northpoint Drive</td>\n",
       "      <td>Community</td>\n",
       "      <td>768019</td>\n",
       "      <td>1 Northpoint Drive</td>\n",
       "      <td>M1</td>\n",
       "      <td>BD725D1716D3959C</td>\n",
       "      <td>20200318162531</td>\n",
       "    </tr>\n",
       "    <tr>\n",
       "      <th>2</th>\n",
       "      <td>31394.65632</td>\n",
       "      <td>30187.62071</td>\n",
       "      <td>155 Waterloo St</td>\n",
       "      <td>Government</td>\n",
       "      <td>187962</td>\n",
       "      <td>155 Waterloo Street</td>\n",
       "      <td>M1</td>\n",
       "      <td>05EF8371C69FD210</td>\n",
       "      <td>20200318162531</td>\n",
       "    </tr>\n",
       "    <tr>\n",
       "      <th>3</th>\n",
       "      <td>29861.29437</td>\n",
       "      <td>29464.67939</td>\n",
       "      <td>20 Upper Pickering St</td>\n",
       "      <td>Community</td>\n",
       "      <td>058284</td>\n",
       "      <td>20 Upper Pickering Street</td>\n",
       "      <td>M1</td>\n",
       "      <td>AD6A8E558E96E20B</td>\n",
       "      <td>20200318162531</td>\n",
       "    </tr>\n",
       "    <tr>\n",
       "      <th>4</th>\n",
       "      <td>42345.17715</td>\n",
       "      <td>34269.36498</td>\n",
       "      <td>7 Star Canteen</td>\n",
       "      <td>F&amp;B</td>\n",
       "      <td>540338</td>\n",
       "      <td>338 Anchorvale Crescent</td>\n",
       "      <td>M1</td>\n",
       "      <td>67FF233DF9721356</td>\n",
       "      <td>20200318162531</td>\n",
       "    </tr>\n",
       "  </tbody>\n",
       "</table>\n",
       "</div>"
      ],
      "text/plain": [
       "             Y            X          LOCATION_NAME LOCATION_TYPE POSTAL_CODE  \\\n",
       "0  36922.92412  18450.95232         Bukit Batok CC     Community      659959   \n",
       "1  45530.46595  28308.65184     1 Northpoint Drive     Community      768019   \n",
       "2  31394.65632  30187.62071        155 Waterloo St    Government      187962   \n",
       "3  29861.29437  29464.67939  20 Upper Pickering St     Community      058284   \n",
       "4  42345.17715  34269.36498         7 Star Canteen           F&B      540338   \n",
       "\n",
       "              STREET_ADDRESS OPERATOR_NAME           INC_CRC      FMEL_UPD_D  \n",
       "0     21 Bukit Batok Central            M1  9BB55356462956EF  20200318162531  \n",
       "1         1 Northpoint Drive            M1  BD725D1716D3959C  20200318162531  \n",
       "2        155 Waterloo Street            M1  05EF8371C69FD210  20200318162531  \n",
       "3  20 Upper Pickering Street            M1  AD6A8E558E96E20B  20200318162531  \n",
       "4    338 Anchorvale Crescent            M1  67FF233DF9721356  20200318162531  "
      ]
     },
     "execution_count": 349,
     "metadata": {},
     "output_type": "execute_result"
    }
   ],
   "source": [
    "#Information includes X, Y coordinates, location name and type, postal code, street address and operator name\n",
    "wifi_df.head(5)"
   ]
  },
  {
   "cell_type": "markdown",
   "metadata": {},
   "source": [
    "### Task 2:\n",
    "Due to a system error, the location type column for the last 200 rows of the dataset has \n",
    "become garbled. Using all earlier rows as well as all other columns in the dataset, build a \n",
    "classification model to predict the location type for these hotspots. You may treat the three rarest location types as one category. <br/>\n",
    "(Note: you may wish to create some additional features based on available ones.)"
   ]
  },
  {
   "cell_type": "code",
   "execution_count": 350,
   "metadata": {},
   "outputs": [],
   "source": [
    "#Prepare data\n",
    "#Check rarest locations\n",
    "wifi_df.LOCATION_TYPE.value_counts()\n",
    "\n",
    "#Combine rarest location to 'Others'\n",
    "wifi_df['LOCATION_TYPE'] = np.where(wifi_df.LOCATION_TYPE.isin(['Tourist Attraction', 'Dormitory / Care Centre', 'Public Worship']), 'Others', wifi_df.LOCATION_TYPE)\n",
    "\n",
    "#Get dummy variables for categorical variables\n",
    "df_cleaned = pd.get_dummies(wifi_df, columns=['LOCATION_NAME', 'STREET_ADDRESS', 'OPERATOR_NAME'], prefix_sep='')\n",
    "\n",
    "#Creating dependent variable\n",
    "df_cleaned['DEPENDENT'] = pd.factorize(df_cleaned['LOCATION_TYPE'])[0]"
   ]
  },
  {
   "cell_type": "code",
   "execution_count": 351,
   "metadata": {},
   "outputs": [],
   "source": [
    "#Get train test set\n",
    "\n",
    "train_x = df_cleaned.iloc[:-200,:].drop(columns=['LOCATION_TYPE', 'INC_CRC', 'FMEL_UPD_D'])\n",
    "train_y = df_cleaned.iloc[:-200,:].DEPENDENT\n",
    "test_x = df_cleaned.iloc[-200:,:].drop(columns=['LOCATION_TYPE', 'INC_CRC', 'FMEL_UPD_D'])\n",
    "test_y = df_cleaned.iloc[-200:,:].DEPENDENT\n",
    "\n",
    "#Instantiate model with 1000 decision trees\n",
    "model = RandomForestClassifier(n_estimators = 1000, random_state = 2022)\n",
    "\n",
    "#Train the model on training data\n",
    "model.fit(train_x, train_y)\n",
    "\n",
    "#Use the forest's predict method on the test data\n",
    "pred_y = model.predict(test_x)"
   ]
  },
  {
   "cell_type": "markdown",
   "metadata": {},
   "source": [
    "### Task 3: \n",
    "The information has now been recovered from a backup copy of the file. Compared to the true location types, how good was your model? Be prepared to explain the metrics you use to evaluate your model."
   ]
  },
  {
   "cell_type": "code",
   "execution_count": 352,
   "metadata": {},
   "outputs": [
    {
     "name": "stdout",
     "output_type": "stream",
     "text": [
      "Accuracy on training set: 100.0%\n",
      "Accuracy on test set: 67.5%\n"
     ]
    }
   ],
   "source": [
    "#Evaluate the model\n",
    "print(f\"Accuracy on training set: {round(model.score(train_x, train_y)*100,2)}%\")\n",
    "print(f\"Accuracy on test set: {round(model.score(test_x, test_y)*100,2)}%\")"
   ]
  },
  {
   "cell_type": "markdown",
   "metadata": {},
   "source": [
    "## Question 4 (Data Visualization)\n",
    "---\n",
    "A colleague is working with a salary dataset based on recent poly graduates in a specific course of study highly subsidised by the government, to compare whether the career choices made by students from Group X are different from those from Group Y in any manner. She has already produced the following summary table and listed out the main insight she wishes to highlight, as well as pertinent observations on the dataset’s characteristics, but is struggling to come up with a good way to communicate the insight to her audience in one visualisation while also accurately reflecting the dataset’s characteristics. \n",
    "\n",
    "### Main insight: \n",
    "It may be worth reviewing the policy behind subsidising this course of study, as a considerable proportion of students from each group do not go on to work in industries closely related to it. For Group X, this may be partially due to higher / comparable salaries offered by other industries. For Group Y, non-salary factors may play a more prominent role. \n",
    "\n",
    "### Data characteristics: \n",
    "1.  There are considerably more students from Group X than Group Y in this course of study. \n",
    "2.  Proportionately more students from Group Y are in jobs unrelated to their course of study. \n",
    "3.  The distribution of students among various industries is considerably different between the two student groups. \n",
    "4.  Students from Group X tend to command higher salaries, for the same type of job & industry. \n",
    "5.  The salary differential between the two student groups differs by job nature and industry.\n"
   ]
  },
  {
   "cell_type": "markdown",
   "metadata": {},
   "source": [
    "### Task: \n",
    "Help your colleague present the insight in an intuitive manner that is easily understood by a \n",
    "non-technical audience, and that reflects as many characteristics in the list as possible. Be prepared to justify any and every aspect of your visualisation (e.g. chart choice, colour palette, labels, orientation, etc.)"
   ]
  },
  {
   "cell_type": "code",
   "execution_count": null,
   "metadata": {},
   "outputs": [],
   "source": [
    "#Visualization"
   ]
  }
 ],
 "metadata": {
  "kernelspec": {
   "display_name": "Python 3.9.7 ('base')",
   "language": "python",
   "name": "python3"
  },
  "language_info": {
   "codemirror_mode": {
    "name": "ipython",
    "version": 3
   },
   "file_extension": ".py",
   "mimetype": "text/x-python",
   "name": "python",
   "nbconvert_exporter": "python",
   "pygments_lexer": "ipython3",
   "version": "3.9.7"
  },
  "orig_nbformat": 4,
  "vscode": {
   "interpreter": {
    "hash": "4a7c6d69fb3a3f26e6f63a114093cfe707b814febc8ad073a129e5428b5fee5f"
   }
  }
 },
 "nbformat": 4,
 "nbformat_minor": 2
}
